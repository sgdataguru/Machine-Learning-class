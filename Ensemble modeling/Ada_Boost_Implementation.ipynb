{
  "cells": [
    {
      "cell_type": "markdown",
      "metadata": {
        "id": "Pgk64nt0pK6y"
      },
      "source": [
        "# Implementation of Ada-Boost Algorithm"
      ]
    },
    {
      "cell_type": "code",
      "execution_count": null,
      "metadata": {
        "id": "xNF8vadkpK66"
      },
      "outputs": [],
      "source": [
        "#Importing neccesary packages\n",
        "# Load libraries\n",
        "from sklearn.ensemble import AdaBoostClassifier\n",
        "from sklearn import datasets\n",
        "from sklearn.model_selection import train_test_split\n",
        "from sklearn import metrics"
      ]
    },
    {
      "cell_type": "code",
      "execution_count": null,
      "metadata": {
        "id": "aVBj_lG-pK68"
      },
      "outputs": [],
      "source": [
        "# Load data\n",
        "iris = datasets.load_iris()\n",
        "X = iris.data\n",
        "y = iris.target"
      ]
    },
    {
      "cell_type": "code",
      "execution_count": null,
      "metadata": {
        "id": "7bftZ_MypK68"
      },
      "outputs": [],
      "source": [
        "# Split dataset into training set and test set\n",
        "X_train, X_test, y_train, y_test = train_test_split(X, y, test_size=0.2) # 80% training and 20% test"
      ]
    },
    {
      "cell_type": "code",
      "execution_count": null,
      "metadata": {
        "id": "IF7XBHH6pK69"
      },
      "outputs": [],
      "source": [
        "# Create adaboost classifer object\n",
        "AdaModel = AdaBoostClassifier(n_estimators=100,\n",
        "                         learning_rate=1)\n",
        "# Train Adaboost Classifer\n",
        "model = AdaModel.fit(X_train, y_train)\n",
        "\n",
        "#Predict the response for test dataset\n",
        "y_pred = model.predict(X_test)"
      ]
    },
    {
      "cell_type": "markdown",
      "metadata": {
        "id": "oqU7foP0pK69"
      },
      "source": [
        "#Important Parameters\n",
        "base_estimator: It is a weak learner used to train the model. It uses DecisionTreeClassifier as default weak learner for training purpose. You can also specify different machine learning algorithms.\n",
        "\n",
        "n_estimators: Number of weak learners to train iteratively.\n",
        "\n",
        "learning_rate: It contributes to the weights of weak learners. It uses 1 as a default value."
      ]
    },
    {
      "cell_type": "code",
      "execution_count": null,
      "metadata": {
        "id": "5sll6l-2pK6-",
        "outputId": "119ad84d-fcb8-4613-f5ba-7118f4c05de6"
      },
      "outputs": [
        {
          "name": "stdout",
          "output_type": "stream",
          "text": [
            "Accuracy: 0.9\n"
          ]
        }
      ],
      "source": [
        "# Model Accuracy, how often is the classifier correct?\n",
        "print(\"Accuracy:\",metrics.accuracy_score(y_test, y_pred))"
      ]
    },
    {
      "cell_type": "code",
      "execution_count": null,
      "metadata": {
        "id": "DCNVXKYTpK6_"
      },
      "outputs": [],
      "source": [
        "# Import Support Vector Classifier\n",
        "from sklearn.svm import SVC\n",
        "#Import scikit-learn metrics module for accuracy calculation\n",
        "from sklearn import metrics\n",
        "svc=SVC(probability=True, kernel='linear')\n",
        "\n",
        "# Create adaboost classifer object\n",
        "abc =AdaBoostClassifier(n_estimators=50, base_estimator=svc,learning_rate=1)\n"
      ]
    },
    {
      "cell_type": "code",
      "execution_count": null,
      "metadata": {
        "id": "7EponM_lpK7A"
      },
      "outputs": [],
      "source": [
        "# Train Adaboost Classifer\n",
        "model = abc.fit(X_train, y_train)\n",
        "\n",
        "#Predict the response for test dataset\n",
        "y_pred = model.predict(X_test)"
      ]
    },
    {
      "cell_type": "code",
      "execution_count": null,
      "metadata": {
        "id": "Z8WLmxmupK7A",
        "outputId": "108ff3f4-2262-4725-f2eb-5cc90beb6f75"
      },
      "outputs": [
        {
          "name": "stdout",
          "output_type": "stream",
          "text": [
            "Accuracy: 0.9333333333333333\n"
          ]
        }
      ],
      "source": [
        "# Model Accuracy, how often is the classifier correct?\n",
        "print(\"Accuracy:\",metrics.accuracy_score(y_test, y_pred))"
      ]
    },
    {
      "cell_type": "markdown",
      "metadata": {
        "id": "TG53RZEPpK7B"
      },
      "source": [
        "Pros\n",
        "AdaBoost is easy to implement. It iteratively corrects the mistakes of the weak classifier and improves accuracy by combining weak learners. You can use many base classifiers with AdaBoost. AdaBoost is not prone to overfitting. This can be found out via experiment results, but there is no concrete reason available.\n",
        "\n",
        "Cons\n",
        "AdaBoost is sensitive to noise data. It is highly affected by outliers because it tries to fit each point perfectly. AdaBoost is slower compared to XGBoost."
      ]
    }
  ],
  "metadata": {
    "kernelspec": {
      "display_name": "Python 3",
      "language": "python",
      "name": "python3"
    },
    "language_info": {
      "codemirror_mode": {
        "name": "ipython",
        "version": 3
      },
      "file_extension": ".py",
      "mimetype": "text/x-python",
      "name": "python",
      "nbconvert_exporter": "python",
      "pygments_lexer": "ipython3",
      "version": "3.7.3"
    },
    "colab": {
      "provenance": []
    }
  },
  "nbformat": 4,
  "nbformat_minor": 0
}