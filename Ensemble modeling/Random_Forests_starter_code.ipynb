{
  "cells": [
    {
      "cell_type": "markdown",
      "metadata": {
        "id": "GIBdWoqvo2lr"
      },
      "source": [
        "# Random Forests and ExtraTrees\n",
        "\n",
        "\n",
        "\n",
        "---"
      ]
    },
    {
      "cell_type": "markdown",
      "metadata": {
        "id": "tzFL49nDo2lw"
      },
      "source": [
        "## Random Forests\n",
        "---\n",
        "\n",
        "With bagged decision trees, we generate many different trees on pretty similar data. These trees are **strongly correlated** with one another. Because these trees are correlated with one another, they will have high variance. Looking at the variance of the average of two random variables $T_1$ and $T_2$:\n",
        "\n",
        "$$\n",
        "\\begin{eqnarray*}\n",
        "Var\\left(\\frac{T_1+T_2}{2}\\right) &=& \\frac{1}{4}\\left[Var(T_1) + Var(T_2) + 2Cov(T_1,T_2)\\right]\n",
        "\\end{eqnarray*}\n",
        "$$\n",
        "\n",
        "If $T_1$ and $T_2$ are highly correlated, then the variance will about as high as we'd see with individual decision trees. By \"de-correlating\" our trees from one another, we can drastically reduce the variance of our model.\n",
        "\n",
        "That's the difference between bagged decision trees and random forests! We're going to do the same thing as before, but we're going to de-correlate our trees. This will reduce our variance (at the expense of a small increase in bias) and thus should greatly improve the overall performance of the final model.\n",
        "\n",
        "So how do we \"de-correlate\" our trees?\n",
        "\n",
        "Random forests differ from bagging decision trees in only one way: they use a modified tree learning algorithm that selects, at each split in the learning process, a **random subset of the features**. This process is sometimes called the *random subspace method*.\n",
        "\n",
        "The reason for doing this is the correlation of the trees in an ordinary bootstrap sample: if one or a few features are very strong predictors for the response variable (target output), these features will be used in many/all of the bagged decision trees, causing them to become correlated. By selecting a random subset of features at each split, we counter this correlation between base trees, strengthening the overall model.\n",
        "\n",
        "For a problem with $p$ features, it is typical to use:\n",
        "\n",
        "- $\\sqrt{p}$ (rounded down) features in each split for a classification problem.\n",
        "- $p/3$ (rounded down) with a minimum node size of 5 as the default for a regression problem.\n",
        "\n",
        "While this is a guideline, Hastie and Tibshirani (authors of Introduction to Statistical Learning and Elements of Statistical Learning) have suggested this as a good rule in the absence of some rationale to do something different.\n",
        "\n",
        "Random forests, a step beyond bagged decision trees, are **very widely used** classifiers and regressors. They are relatively simple to use because they require very few parameters to set and they perform pretty well.\n",
        "- It is quite common for interviewers to ask how a random forest is constructed or how it is superior to a single decision tree.\n",
        "\n",
        "--- \n",
        "\n",
        "## Extremely Randomized Trees (ExtraTrees)\n",
        "Adding another step of randomization (and thus de-correlation) yields extremely randomized trees, or _ExtraTrees_. Like Random Forests, these are trained using the random subspace method (sampling of features). However, they are trained on the entire dataset instead of bootstrapped samples. A layer of randomness is introduced in the way the nodes are split. Instead of computing the locally optimal feature/split combination (based on, e.g., information gain or the Gini impurity) for each feature under consideration, a random value is selected for the split. This value is selected from the feature's empirical range.\n",
        "\n",
        "This further reduces the variance, but causes an increase in bias. If you're considering using ExtraTrees, you might consider this to be a hyperparameter you can tune. Build an ExtraTrees model and a Random Forest model, then compare their performance!\n",
        "\n",
        "That's exactly what we'll do below."
      ]
    },
    {
      "cell_type": "markdown",
      "metadata": {
        "id": "Kwk0HiJmo2l0"
      },
      "source": [
        "## Import libraries\n",
        "---\n",
        "\n",
        "We'll need the following libraries for today's lecture:\n",
        "- `pandas`\n",
        "- `numpy`\n",
        "- `GridSearchCV`, `train_test_split` and `cross_val_score` from `sklearn`'s `model_selection` module \n",
        "- `RandomForestClassifier` and `ExtraTreesClassifier` from `sklearn`'s `ensemble` module "
      ]
    },
    {
      "cell_type": "code",
      "execution_count": null,
      "metadata": {
        "id": "pTtS45Z4o2l1"
      },
      "outputs": [],
      "source": [
        "import pandas as pd\n",
        "import numpy as np\n",
        "from sklearn.ensemble import RandomForestClassifier, ExtraTreesClassifier\n",
        "from sklearn.model_selection import GridSearchCV, train_test_split, cross_val_score"
      ]
    },
    {
      "cell_type": "markdown",
      "metadata": {
        "id": "5BC-cNjro2l3"
      },
      "source": [
        "## Load Data\n",
        "---\n",
        "\n",
        "Load `train.csv` and `test.csv` from Kaggle into `DataFrames`."
      ]
    },
    {
      "cell_type": "code",
      "execution_count": null,
      "metadata": {
        "id": "8oVEQFSQo2l4"
      },
      "outputs": [],
      "source": [
        "train = pd.read_csv('/content/train.csv')"
      ]
    },
    {
      "cell_type": "code",
      "execution_count": null,
      "metadata": {
        "colab": {
          "base_uri": "https://localhost:8080/"
        },
        "id": "EDOJYgYlo2l4",
        "outputId": "8995a7ce-eb6e-45c1-f84d-3d034ffaf55a"
      },
      "outputs": [
        {
          "output_type": "execute_result",
          "data": {
            "text/plain": [
              "(891, 12)"
            ]
          },
          "metadata": {},
          "execution_count": 4
        }
      ],
      "source": [
        "train.shape"
      ]
    },
    {
      "cell_type": "code",
      "execution_count": null,
      "metadata": {
        "id": "2UNepBpeo2l6"
      },
      "outputs": [],
      "source": [
        "test = pd.read_csv('/content/test.csv')"
      ]
    },
    {
      "cell_type": "markdown",
      "metadata": {
        "id": "ghEZHtbeo2l8"
      },
      "source": [
        "## Data Cleaning: Drop the two rows with missing `Embarked` values from train\n",
        "---"
      ]
    },
    {
      "cell_type": "code",
      "execution_count": null,
      "metadata": {
        "id": "9EmFksmQo2l9"
      },
      "outputs": [],
      "source": [
        "train = train[train['Embarked'].notnull()]"
      ]
    },
    {
      "cell_type": "code",
      "execution_count": null,
      "metadata": {
        "colab": {
          "base_uri": "https://localhost:8080/"
        },
        "id": "gW-_uPqNo2l9",
        "outputId": "fd06b987-56aa-4738-98f7-2fb848981fc2"
      },
      "outputs": [
        {
          "output_type": "execute_result",
          "data": {
            "text/plain": [
              "(889, 12)"
            ]
          },
          "metadata": {},
          "execution_count": 6
        }
      ],
      "source": [
        "train.shape"
      ]
    },
    {
      "cell_type": "markdown",
      "metadata": {
        "id": "N1kgrrB2o2l-"
      },
      "source": [
        "## Data Cleaning: `Fare`\n",
        "---\n",
        "\n",
        "The test set has one row with a missing value for `Fare`. Fill it with the average `Fare` with everyone from the same `Pclass`. **Use the training set to calculate the average!**"
      ]
    },
    {
      "cell_type": "code",
      "execution_count": null,
      "metadata": {
        "id": "-DpKVHOno2l-"
      },
      "outputs": [],
      "source": [
        "mean_fare_3 = train[train['Pclass']==3]['Fare'].mean()"
      ]
    },
    {
      "cell_type": "code",
      "execution_count": null,
      "metadata": {
        "colab": {
          "base_uri": "https://localhost:8080/"
        },
        "id": "w5uHiApUo2l-",
        "outputId": "b65155ea-468e-4eea-a394-f469d342ebbf"
      },
      "outputs": [
        {
          "output_type": "execute_result",
          "data": {
            "text/plain": [
              "13.675550101832993"
            ]
          },
          "metadata": {},
          "execution_count": 8
        }
      ],
      "source": [
        "mean_fare_3"
      ]
    },
    {
      "cell_type": "code",
      "execution_count": null,
      "metadata": {
        "id": "vV_Cw8Cmo2l_"
      },
      "outputs": [],
      "source": [
        "test['Fare'] = test['Fare'].fillna(mean_fare_3)"
      ]
    },
    {
      "cell_type": "code",
      "execution_count": null,
      "metadata": {
        "colab": {
          "base_uri": "https://localhost:8080/"
        },
        "id": "QlahzVXMo2mA",
        "outputId": "ca739d20-f4c5-4008-dbb9-b1a962373f78"
      },
      "outputs": [
        {
          "output_type": "execute_result",
          "data": {
            "text/plain": [
              "PassengerId      0\n",
              "Pclass           0\n",
              "Name             0\n",
              "Sex              0\n",
              "Age             86\n",
              "SibSp            0\n",
              "Parch            0\n",
              "Ticket           0\n",
              "Fare             0\n",
              "Cabin          327\n",
              "Embarked         0\n",
              "dtype: int64"
            ]
          },
          "metadata": {},
          "execution_count": 10
        }
      ],
      "source": [
        "test.isnull().sum()"
      ]
    },
    {
      "cell_type": "markdown",
      "metadata": {
        "id": "cubxw5VJo2mB"
      },
      "source": [
        "## Data Cleaning: `Age`\n",
        "---\n",
        "\n",
        "Let's simply impute all missing ages to be **999**. \n",
        "\n",
        "**NOTE**: This is not a best practice. However, \n",
        "1. Since we haven't really covered imputation in depth\n",
        "2. And the proper way would take too long to implement (thus detracting) from today's lecture\n",
        "3. And since we're ensembling with Decision Trees\n",
        "\n",
        "We'll do it this way as a matter of convenience."
      ]
    },
    {
      "cell_type": "code",
      "execution_count": null,
      "metadata": {
        "id": "wVjC5Slno2mB"
      },
      "outputs": [],
      "source": [
        "train['Age'] = train['Age'].fillna(999)"
      ]
    },
    {
      "cell_type": "code",
      "execution_count": null,
      "metadata": {
        "id": "U7ALdpQro2mC"
      },
      "outputs": [],
      "source": [
        "test['Age'] = test['Age'].fillna(999)"
      ]
    },
    {
      "cell_type": "markdown",
      "metadata": {
        "id": "TyZUJEv-o2mC"
      },
      "source": [
        "## Feature Engineering: `Cabin`\n",
        "---\n",
        "\n",
        "Since there are so many missing values for `Cabin`, let's binarize that column as follows:\n",
        "- 1 if there originally was a value for `Cabin`\n",
        "- 0 if it was null\n",
        "\n",
        "**Do this for both `train` and `test`**"
      ]
    },
    {
      "cell_type": "code",
      "execution_count": null,
      "metadata": {
        "id": "M_I3Wvfuo2mC"
      },
      "outputs": [],
      "source": [
        "train['Cabin'] = train['Cabin'].notnull().astype(int)"
      ]
    },
    {
      "cell_type": "code",
      "execution_count": null,
      "metadata": {
        "id": "hN4BJfCpo2mD"
      },
      "outputs": [],
      "source": [
        "test['Cabin'] = test['Cabin'].notnull().astype(int)"
      ]
    },
    {
      "cell_type": "markdown",
      "metadata": {
        "id": "9za52theo2mD"
      },
      "source": [
        "## Feature Engineering: Dummies\n",
        "---\n",
        "\n",
        "Dummy the `Sex` and `Embarked` columns. Be sure to set `drop_first=True`."
      ]
    },
    {
      "cell_type": "code",
      "execution_count": null,
      "metadata": {
        "id": "dGxOrL5to2mD"
      },
      "outputs": [],
      "source": [
        "train = pd.get_dummies(train,columns = ['Sex','Embarked'],drop_first = True)"
      ]
    },
    {
      "cell_type": "code",
      "execution_count": null,
      "metadata": {
        "id": "0nWE3qdro2mE"
      },
      "outputs": [],
      "source": [
        "test = pd.get_dummies(test,columns = ['Sex','Embarked'],drop_first = True)"
      ]
    },
    {
      "cell_type": "markdown",
      "metadata": {
        "id": "23064L_0o2mE"
      },
      "source": [
        "## Model Prep: Create `X` and `y` variables\n",
        "---\n",
        "\n",
        "Our features will be:\n",
        "\n",
        "```python\n",
        "features = ['Pclass', 'Age', 'SibSp', 'Parch', 'Fare', 'Cabin', 'Sex_male', 'Embarked_Q', 'Embarked_S']\n",
        "```\n",
        "\n",
        "And our target will be `Survived`"
      ]
    },
    {
      "cell_type": "code",
      "execution_count": null,
      "metadata": {
        "id": "_NmS84dJo2mF"
      },
      "outputs": [],
      "source": [
        "features = ['Pclass', 'Age', 'SibSp', 'Parch', 'Fare', 'Cabin', 'Sex_male', 'Embarked_Q', 'Embarked_S']"
      ]
    },
    {
      "cell_type": "code",
      "execution_count": null,
      "metadata": {
        "id": "_gDKNEUCo2mF"
      },
      "outputs": [],
      "source": [
        "X = train[features]\n",
        "y = train['Survived']"
      ]
    },
    {
      "cell_type": "markdown",
      "metadata": {
        "id": "wtF8r-vOo2mF"
      },
      "source": [
        "## Challenge: What is our baseline accuracy?\n",
        "---\n",
        "\n",
        "The baseline accuracy is the percentage of the majority class, regardless of whether it is 1 or 0. It serves as the benchmark for our model to beat."
      ]
    },
    {
      "cell_type": "code",
      "execution_count": null,
      "metadata": {
        "colab": {
          "base_uri": "https://localhost:8080/"
        },
        "id": "7X5LZvYyo2mb",
        "outputId": "91fb2d64-3480-4292-dea5-cf4fa70dbdd3"
      },
      "outputs": [
        {
          "output_type": "execute_result",
          "data": {
            "text/plain": [
              "0    0.617548\n",
              "1    0.382452\n",
              "Name: Survived, dtype: float64"
            ]
          },
          "metadata": {},
          "execution_count": 19
        }
      ],
      "source": [
        "y.value_counts(normalize = True)"
      ]
    },
    {
      "cell_type": "markdown",
      "metadata": {
        "id": "9e6tx8V_o2nQ"
      },
      "source": [
        "## Train/Test Split\n",
        "---\n",
        "\n",
        "I know it can be confusing having an `X_test` from our training data vs a test set from Kaggle. If you want, you can use `X_val`/`y_val` for what we normally call `X_test`/`y_test`."
      ]
    },
    {
      "cell_type": "code",
      "execution_count": null,
      "metadata": {
        "id": "n5-t2d5so2nR"
      },
      "outputs": [],
      "source": [
        "X_train, X_val, y_train, y_val = train_test_split(X, y, random_state = 42, stratify = y)"
      ]
    },
    {
      "cell_type": "markdown",
      "metadata": {
        "id": "rFBvkoQGo2nS"
      },
      "source": [
        "## Model instantiation\n",
        "---\n",
        "\n",
        "Create an instance of `RandomForestClassifier` and `ExtraTreesClassifier`."
      ]
    },
    {
      "cell_type": "code",
      "execution_count": null,
      "metadata": {
        "id": "NPxMxlE-o2nh"
      },
      "outputs": [],
      "source": [
        "rg = RandomForestClassifier()"
      ]
    },
    {
      "cell_type": "code",
      "execution_count": null,
      "metadata": {
        "id": "XxCIU16Ro2nk"
      },
      "outputs": [],
      "source": [
        "et = ExtraTreesClassifier()"
      ]
    },
    {
      "cell_type": "markdown",
      "metadata": {
        "id": "NXxj49Uno2nl"
      },
      "source": [
        "## Model Evaluation\n",
        "---\n",
        "\n",
        "Which one has a higher `cross_val_score`?"
      ]
    },
    {
      "cell_type": "code",
      "execution_count": null,
      "metadata": {
        "colab": {
          "base_uri": "https://localhost:8080/"
        },
        "id": "l1OnoNhno2nn",
        "outputId": "b8db463d-b3d5-4574-b847-f88a34c6a881"
      },
      "outputs": [
        {
          "output_type": "execute_result",
          "data": {
            "text/plain": [
              "0.8078105712041296"
            ]
          },
          "metadata": {},
          "execution_count": 23
        }
      ],
      "source": [
        "cross_val_score(rg, X_train,y_train, cv = 5).mean()"
      ]
    },
    {
      "cell_type": "code",
      "execution_count": null,
      "metadata": {
        "colab": {
          "base_uri": "https://localhost:8080/"
        },
        "id": "KRXJNy5wo2nn",
        "outputId": "6fe68d1f-a33c-4282-d45d-702781aac565"
      },
      "outputs": [
        {
          "output_type": "execute_result",
          "data": {
            "text/plain": [
              "0.7778251599147122"
            ]
          },
          "metadata": {},
          "execution_count": 24
        }
      ],
      "source": [
        "cross_val_score(et, X_train,y_train, cv = 5).mean()"
      ]
    },
    {
      "cell_type": "markdown",
      "metadata": {
        "id": "00IFIfrVo2nn"
      },
      "source": [
        "## Grid Search\n",
        "---\n",
        "\n",
        "They're both pretty close performance-wise. We could Grid Search over both, but for the sake of time we'll go with `RandomForestClassifier`."
      ]
    },
    {
      "cell_type": "code",
      "execution_count": null,
      "metadata": {
        "id": "3FRNUDdho2no"
      },
      "outputs": [],
      "source": [
        "rg_params = {\n",
        "    'n_estimators': [100,150,200],\n",
        "    'max_depth': [None,1,2,3,4,5]\n",
        "}"
      ]
    },
    {
      "cell_type": "code",
      "execution_count": null,
      "metadata": {
        "id": "-WBMOQ-Mo2np"
      },
      "outputs": [],
      "source": [
        "gs = GridSearchCV(rg, param_grid = rg_params, cv = 5)"
      ]
    },
    {
      "cell_type": "code",
      "execution_count": null,
      "metadata": {
        "colab": {
          "base_uri": "https://localhost:8080/"
        },
        "id": "L3tAErCuo2nq",
        "outputId": "944eaa0f-6e69-458b-ead6-05b341c38e3b"
      },
      "outputs": [
        {
          "output_type": "execute_result",
          "data": {
            "text/plain": [
              "GridSearchCV(cv=5, estimator=RandomForestClassifier(),\n",
              "             param_grid={'max_depth': [None, 1, 2, 3, 4, 5],\n",
              "                         'n_estimators': [100, 150, 200]})"
            ]
          },
          "metadata": {},
          "execution_count": 27
        }
      ],
      "source": [
        "gs.fit(X_train, y_train)"
      ]
    },
    {
      "cell_type": "code",
      "execution_count": null,
      "metadata": {
        "colab": {
          "base_uri": "https://localhost:8080/"
        },
        "id": "3WtEVToHo2nr",
        "outputId": "3ce6a0a7-6c72-4c8e-b8f7-1b630e79c997"
      },
      "outputs": [
        {
          "output_type": "stream",
          "name": "stdout",
          "text": [
            "0.819851868477163\n"
          ]
        }
      ],
      "source": [
        "print(gs.best_score_)"
      ]
    },
    {
      "cell_type": "code",
      "execution_count": null,
      "metadata": {
        "colab": {
          "base_uri": "https://localhost:8080/"
        },
        "id": "JUGWhVoNo2ns",
        "outputId": "0dacb672-00f6-4e93-8c4f-4de985c40d91"
      },
      "outputs": [
        {
          "output_type": "stream",
          "name": "stdout",
          "text": [
            "{'max_depth': 5, 'n_estimators': 200}\n"
          ]
        }
      ],
      "source": [
        "print(gs.best_params_)"
      ]
    },
    {
      "cell_type": "markdown",
      "metadata": {
        "id": "ePxuxtn4o2nt"
      },
      "source": [
        "## Kaggle Submission\n",
        "---\n",
        "\n",
        "Now that we've evaluated our model, let's submit our predictions to Kaggle."
      ]
    },
    {
      "cell_type": "code",
      "execution_count": null,
      "metadata": {
        "id": "cTnq1rnvo2nt"
      },
      "outputs": [],
      "source": []
    },
    {
      "cell_type": "code",
      "execution_count": null,
      "metadata": {
        "id": "DTXnBUCCo2nt"
      },
      "outputs": [],
      "source": [
        "pred  = gs.predict(test[features])"
      ]
    },
    {
      "cell_type": "code",
      "execution_count": null,
      "metadata": {
        "id": "bjghC5Qco2nt"
      },
      "outputs": [],
      "source": [
        "test['Survied'] = pred "
      ]
    },
    {
      "cell_type": "code",
      "execution_count": null,
      "metadata": {
        "id": "sC2U5UiPo2nt"
      },
      "outputs": [],
      "source": [
        "test[['PassengerId', 'Survied']].to_csv('submission.csv')"
      ]
    },
    {
      "cell_type": "code",
      "execution_count": null,
      "metadata": {
        "id": "14iQu4-To2nu"
      },
      "outputs": [],
      "source": []
    }
  ],
  "metadata": {
    "kernelspec": {
      "display_name": "Python 3 (ipykernel)",
      "language": "python",
      "name": "python3"
    },
    "language_info": {
      "codemirror_mode": {
        "name": "ipython",
        "version": 3
      },
      "file_extension": ".py",
      "mimetype": "text/x-python",
      "name": "python",
      "nbconvert_exporter": "python",
      "pygments_lexer": "ipython3",
      "version": "3.9.7"
    },
    "colab": {
      "provenance": []
    }
  },
  "nbformat": 4,
  "nbformat_minor": 0
}