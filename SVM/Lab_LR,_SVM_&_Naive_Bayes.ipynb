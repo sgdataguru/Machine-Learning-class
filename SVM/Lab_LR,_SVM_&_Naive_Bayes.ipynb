{
  "cells": [
    {
      "cell_type": "markdown",
      "metadata": {
        "id": "XebDJ3UnS3n3"
      },
      "source": [
        "#Classification Models"
      ]
    },
    {
      "cell_type": "markdown",
      "metadata": {
        "id": "e_-HjrL6S3n5"
      },
      "source": [
        "\n",
        "# *Logistic Regression, Support Vector Machines & Naive Bayes*\n",
        "\n",
        "SVMs use linear algebra to find an (n-1)-dimensional boundary that separates classes within an n-dimensional space. In practical terms, this technique provides a conceptually simple way to predict class membership from a set of features. \n",
        "\n",
        "The standard (linear) SVM is immediately applicable to linear classification problems. Furthermore, by applying transformations to the feature space it is possible to tackle nonlinear classificaiton problems. These transforms are called *kernels*."
      ]
    },
    {
      "cell_type": "markdown",
      "metadata": {
        "id": "azVVNUxHYKej"
      },
      "source": [
        "### 1. Load Data\n",
        "\n",
        "Features are computed from a digitized image of a fine needle aspirate (FNA) of a breast mass. They describe characteristics of the cell nuclei present in the image. n the 3-dimensional space is that described in: [K. P. Bennett and O. L. Mangasarian: \"Robust Linear Programming Discrimination of Two Linearly Inseparable Sets\", Optimization Methods and Software 1, 1992, 23-34].\n",
        "\n",
        "This database is also available through the UW CS ftp server: ftp ftp.cs.wisc.edu cd math-prog/cpo-dataset/machine-learn/WDBC/\n",
        "\n",
        "Also can be found on UCI Machine Learning Repository: https://archive.ics.uci.edu/ml/datasets/Breast+Cancer+Wisconsin+%28Diagnostic%29\n",
        "\n",
        "Attribute Information:\n",
        "\n",
        "1) ID number 2) Diagnosis (M = malignant, B = benign) 3-32)\n",
        "\n",
        "Ten real-valued features are computed for each cell nucleus:\n",
        "\n",
        "a) radius (mean of distances from center to points on the perimeter) b) texture (standard deviation of gray-scale values) c) perimeter d) area e) smoothness (local variation in radius lengths) f) compactness (perimeter^2 / area - 1.0) g) concavity (severity of concave portions of the contour) h) concave points (number of concave portions of the contour) i) symmetry j) fractal dimension (\"coastline approximation\" - 1)\n",
        "\n",
        "The mean, standard error and \"worst\" or largest (mean of the three largest values) of these features were computed for each image, resulting in 30 features. For instance, field 3 is Mean Radius, field 13 is Radius SE, field 23 is Worst Radius.\n",
        "\n",
        "All feature values are recoded with four significant digits.\n",
        "\n",
        "Missing attribute values: none\n",
        "\n",
        "Class distribution: 357 benign, 212 malignant"
      ]
    },
    {
      "cell_type": "code",
      "execution_count": null,
      "metadata": {
        "ExecuteTime": {
          "end_time": "2019-05-09T05:13:16.458182Z",
          "start_time": "2019-05-09T05:13:16.454244Z"
        },
        "id": "aICmn_7xYKek"
      },
      "outputs": [],
      "source": [
        "breast_cancer_csv = 'breast-cancer-wisconsin-data.csv'"
      ]
    },
    {
      "cell_type": "markdown",
      "metadata": {
        "id": "FPRqG96QYKen"
      },
      "source": [
        "### 2. EDA \n",
        "\n",
        "- Explore dataset. Clean data (if required)\n",
        "\n",
        "\n",
        "- Define Target, Predictors\n",
        "- Train-Test Split"
      ]
    },
    {
      "cell_type": "markdown",
      "metadata": {
        "id": "Omwx5vVbYKeo"
      },
      "source": [
        "### 3. Logistic Regression Model\n",
        "\n",
        "#### 3.1 Use Logistic Regression (liblinear solver)\n",
        "\n",
        "Use Logistic Regression and examine accuracy score, confusion matrix, classification report for that model.\n",
        "\n",
        "- Evaluate Model"
      ]
    },
    {
      "cell_type": "markdown",
      "metadata": {
        "id": "Mogg_w8vYKep"
      },
      "source": [
        "### 4. Support Vector Machine\n",
        "\n",
        "#### 4.1 Use Support Vector Machine (linear)\n",
        "\n",
        "Use Support Vector Machine and examine accuracy score, confusion matrix, classification report for that model.\n",
        "\n",
        "- Evaluate Model"
      ]
    },
    {
      "cell_type": "markdown",
      "metadata": {
        "id": "fdzQkTb7YKeq"
      },
      "source": [
        "### 5. Naive Bayes\n",
        "#### 5.1 Use Naive Bayes (Gaussian classifier)\n",
        "\n",
        "Use Naive Bayes and examine accuracy score, confusion matrix, classification report for that model.\n",
        "\n",
        "- Evaluate Model"
      ]
    },
    {
      "cell_type": "markdown",
      "metadata": {
        "id": "VoGxthaeYKer"
      },
      "source": [
        "### 6. Gridsearch optimal parameters for models.\n",
        "\n",
        "Is there any difference between accuracy score of Logistic Regression, SVM and Naive Bayes? Use grid search to find optimal parameters for Logistic Regression and SVM models.\n",
        "\n",
        "> Hyper-parameters are parameters that are not directly learnt within estimators. In scikit-learn they are passed as arguments to the constructor of the estimator classes. Typical examples include C, kernel and gamma for Support Vector Classifier, alpha for Lasso, etc.\n",
        "\n",
        "> It is possible and recommended to search the hyper-parameter space for the best cross validation score.\n",
        "\n",
        "> https://scikit-learn.org/stable/modules/grid_search.html#grid-search\n",
        "\n",
        "**Note:** It'll take time to execute this. After running the cell, wait for result."
      ]
    },
    {
      "cell_type": "markdown",
      "metadata": {
        "id": "UeqrbsyNYKes"
      },
      "source": [
        "#### 6.1 Find Best Estimator For Logistic Regression \n",
        "\n",
        "Find out how these parameters effect model. Find out the best estimator, score."
      ]
    },
    {
      "cell_type": "code",
      "execution_count": null,
      "metadata": {
        "ExecuteTime": {
          "end_time": "2019-05-09T05:40:29.397881Z",
          "start_time": "2019-05-09T05:40:29.392602Z"
        },
        "id": "UkQ9RBQZYKet"
      },
      "outputs": [],
      "source": [
        "lr_params = {\n",
        "    'penalty': ['l1','l2'],\n",
        "    'C': [1, 10, 100]\n",
        "}"
      ]
    },
    {
      "cell_type": "markdown",
      "metadata": {
        "ExecuteTime": {
          "end_time": "2019-05-09T05:23:14.036840Z",
          "start_time": "2019-05-09T05:23:14.032847Z"
        },
        "id": "ioLgY3bxYKev"
      },
      "source": [
        "#### 6.2 Find Best Estimator For SVM\n",
        "\n",
        "Find out how these parameters effect model. Find out the best estimator, score."
      ]
    },
    {
      "cell_type": "code",
      "execution_count": null,
      "metadata": {
        "ExecuteTime": {
          "end_time": "2019-05-09T05:40:31.617090Z",
          "start_time": "2019-05-09T05:40:31.612996Z"
        },
        "id": "vgi61VpWYKew"
      },
      "outputs": [],
      "source": [
        "svc_params = {\n",
        "    'C': [1, 10, 100],\n",
        "    'gamma': [0.001, 0.0001],\n",
        "    'kernel': ['linear','rbf']\n",
        "}"
      ]
    },
    {
      "cell_type": "markdown",
      "metadata": {
        "ExecuteTime": {
          "end_time": "2019-05-09T05:23:59.157703Z",
          "start_time": "2019-05-09T05:23:59.153713Z"
        },
        "id": "HrS04DfuYKez"
      },
      "source": [
        "#### 6.3 Plot the ROC curve for the SVM, Logistic Regressions and Naive Bayes on the same plot\n",
        "\n",
        "Find out which model performs better."
      ]
    },
    {
      "cell_type": "code",
      "execution_count": null,
      "metadata": {
        "ExecuteTime": {
          "end_time": "2019-05-09T05:28:56.671590Z",
          "start_time": "2019-05-09T05:28:56.421258Z"
        },
        "id": "q9TBM2axYKe0",
        "outputId": "8f525757-6f7f-4a8b-d154-235ae82cfdf6"
      },
      "outputs": [
        {
          "name": "stderr",
          "output_type": "stream",
          "text": [
            "No handles with labels found to put in legend.\n"
          ]
        },
        {
          "data": {
            "image/png": "[encoded data removed]",
            "text/plain": [
              "<matplotlib.figure.Figure at 0x1c514839668>"
            ]
          },
          "metadata": {
            "needs_background": "light",
            "tags": []
          },
          "output_type": "display_data"
        }
      ],
      "source": [
        "plt.figure(figsize=[8,8])\n",
        "plt.xlim([-0.05, 1.0])\n",
        "plt.ylim([-0.05, 1.05])\n",
        "plt.xlabel('False Positive Rate', fontsize=18)\n",
        "plt.ylabel('True Positive Rate', fontsize=18)\n",
        "plt.title('Receiver Operating Characteristic: M', fontsize=18)\n",
        "plt.legend(loc=\"lower right\")\n",
        "plt.show()"
      ]
    },
    {
      "cell_type": "markdown",
      "metadata": {
        "id": "WrSrz3AAYKe3"
      },
      "source": [
        "### 7. [BONUS] Learning Curve\n",
        "\n",
        "A learning curve shows the validation and training score of an estimator for varying numbers of training samples. It is a tool to find out how much we benefit from adding more training data and whether the estimator suffers more from a variance error or a bias error. If both the validation score and the training score converge to a value that is too low with increasing size of the training set, we will not benefit much from more training data.\n",
        "\n",
        "Plot \"learning curves\" for the best models of each. This is a great way see how training/testing size affects the scores. Look at the documentation for how to use this function in sklearn.\n",
        "\n",
        "http://scikit-learn.org/stable/modules/learning_curve.html#learning-curves"
      ]
    },
    {
      "cell_type": "code",
      "execution_count": null,
      "metadata": {
        "ExecuteTime": {
          "end_time": "2019-05-09T05:22:19.657638Z",
          "start_time": "2019-05-09T05:22:19.653657Z"
        },
        "id": "3Zleg5E-YKe4"
      },
      "outputs": [],
      "source": [
        "# https://scikit-learn.org/stable/auto_examples/model_selection/plot_learning_curve.html#sphx-glr-auto-examples-model-selection-plot-learning-curve-py"
      ]
    },
    {
      "cell_type": "markdown",
      "metadata": {
        "id": "tE8SgkpSYKe7"
      },
      "source": [
        "**References**\n",
        "\n",
        "[Breast Cancer Wisconsin (Diagnostic) Data Set](https://www.kaggle.com/uciml/breast-cancer-wisconsin-data/downloads/breast-cancer-wisconsin-data.zip/2)\n",
        "\n",
        "[Validation curves: plotting scores to evaluate models](https://scikit-learn.org/stable/modules/learning_curve.html#learning-curves)\n",
        "\n",
        "[In-Depth: Support Vector Machines](https://jakevdp.github.io/PythonDataScienceHandbook/05.07-support-vector-machines.html)\n",
        "\n",
        "[Understanding Support Vector Machine algorithm from examples (along with code)](https://www.analyticsvidhya.com/blog/2017/09/understaing-support-vector-machine-example-code/)\n",
        "\n",
        "[Tuning the hyper-parameters of an estimator](https://scikit-learn.org/stable/modules/grid_search.html#grid-search)"
      ]
    },
    {
      "cell_type": "markdown",
      "metadata": {
        "id": "RERADKgNFq9T"
      },
      "source": [
        "\n",
        "\n",
        "---\n",
        "\n",
        "\n",
        "\n",
        "---\n",
        "\n",
        "\n",
        "\n",
        "> > > > > > > > > © 2021 Institute of Data\n",
        "\n",
        "\n",
        "---\n",
        "\n",
        "\n",
        "\n",
        "---\n",
        "\n",
        "\n",
        "\n"
      ]
    }
  ],
  "metadata": {
    "colab": {
      "provenance": []
    },
    "kernelspec": {
      "display_name": "Python 3",
      "language": "python",
      "name": "python3"
    },
    "language_info": {
      "codemirror_mode": {
        "name": "ipython",
        "version": 3
      },
      "file_extension": ".py",
      "mimetype": "text/x-python",
      "name": "python",
      "nbconvert_exporter": "python",
      "pygments_lexer": "ipython3",
      "version": "3.8.3"
    },
    "varInspector": {
      "cols": {
        "lenName": 16,
        "lenType": 16,
        "lenVar": 40
      },
      "kernels_config": {
        "python": {
          "delete_cmd_postfix": "",
          "delete_cmd_prefix": "del ",
          "library": "var_list.py",
          "varRefreshCmd": "print(var_dic_list())"
        },
        "r": {
          "delete_cmd_postfix": ") ",
          "delete_cmd_prefix": "rm(",
          "library": "var_list.r",
          "varRefreshCmd": "cat(var_dic_list()) "
        }
      },
      "types_to_exclude": [
        "module",
        "function",
        "builtin_function_or_method",
        "instance",
        "_Feature"
      ],
      "window_display": false
    }
  },
  "nbformat": 4,
  "nbformat_minor": 0
}