{
  "cells": [
    {
      "cell_type": "markdown",
      "metadata": {
        "id": "bIDhb3QSsj0w"
      },
      "source": [
        "\n",
        "\n",
        "# Support Vector Machines (SVMs)"
      ]
    },
    {
      "cell_type": "markdown",
      "metadata": {
        "id": "atLo0Jgssj0y"
      },
      "source": [
        "## Learning Objectives\n",
        "\n",
        "*After this lesson, students will be able to:*\n",
        "1. **Describe** linear separability.\n",
        "\n",
        "2. **Implement** SVMs in `scikit-learn`.\n",
        "3. **Describe** the effects of `C` and kernels on SVMs."
      ]
    },
    {
      "cell_type": "code",
      "execution_count": null,
      "metadata": {
        "id": "kDbz3hUfsj0z"
      },
      "outputs": [],
      "source": [
        "# imports\n",
        "import numpy as np\n",
        "import pandas as pd\n",
        "import matplotlib.pyplot as plt\n",
        "\n",
        "from sklearn.preprocessing import StandardScaler\n",
        "from sklearn.model_selection import GridSearchCV, train_test_split, StratifiedKFold\n",
        "\n",
        "from sklearn.svm import LinearSVC, SVC\n",
        "from sklearn import datasets"
      ]
    },
    {
      "cell_type": "markdown",
      "metadata": {
        "id": "g8CZ-grJsj04"
      },
      "source": [
        "# Kernel SVMs on the MNIST data"
      ]
    },
    {
      "cell_type": "markdown",
      "metadata": {
        "id": "aoBDR9KPsj04"
      },
      "source": [
        "### Hyperparameters of SVMs\n",
        "SVMs will have two main hyperparameters: `C` and `kernel`.\n",
        "\n",
        "#### Parameter: `C`\n",
        "`C` controls how much we regularize the boundary that is fit between classes.\n",
        "- **If `C` is small**: We regularize substantially, leading to a less perfect classification of our training data.\n",
        "- **If `C` is large**: We do not regularize much, leading to a more perfect classification of our training data.\n",
        "\n",
        "#### Parameter: `kernel`\n",
        "There are several options:\n",
        "* `linear`, `rbf`, `polynomial`, `sigmoid`, or something custom\n",
        "\n",
        "**Which do we use?**\n",
        "- **Quick answer**: As long as it's not the linear kernel, it actually matters surprisingly little!\n",
        "- **Lazy answer**: Use the RBF kernel, as it's usually best (or no different from other options).\n",
        "- **Better answer**: It's a model parameter that you're free to gridsearch over!"
      ]
    },
    {
      "cell_type": "markdown",
      "metadata": {
        "id": "Et4JiXpssj04"
      },
      "source": [
        "## Coding with [MNIST Digits Dataset](https://en.wikipedia.org/wiki/MNIST_database)"
      ]
    },
    {
      "cell_type": "code",
      "execution_count": null,
      "metadata": {
        "colab": {
          "base_uri": "https://localhost:8080/"
        },
        "id": "B90dDilEsj04",
        "outputId": "426dfb54-a97d-4616-d0d4-49347e13d7e0"
      },
      "outputs": [
        {
          "output_type": "execute_result",
          "data": {
            "text/plain": [
              "array([[ 0.,  0.,  5., ...,  0.,  0.,  0.],\n",
              "       [ 0.,  0.,  0., ..., 10.,  0.,  0.],\n",
              "       [ 0.,  0.,  0., ..., 16.,  9.,  0.],\n",
              "       ...,\n",
              "       [ 0.,  0.,  1., ...,  6.,  0.,  0.],\n",
              "       [ 0.,  0.,  2., ..., 12.,  0.,  0.],\n",
              "       [ 0.,  0., 10., ..., 12.,  1.,  0.]])"
            ]
          },
          "metadata": {},
          "execution_count": 30
        }
      ],
      "source": [
        "# Load digits.\n",
        "digits = datasets.load_digits()\n",
        "\n",
        "# Check out data.\n",
        "digits.data"
      ]
    },
    {
      "cell_type": "code",
      "execution_count": null,
      "metadata": {
        "colab": {
          "base_uri": "https://localhost:8080/"
        },
        "id": "HwQTUSzisj05",
        "outputId": "2276518f-09c7-487a-f3e7-111bdab191cc"
      },
      "outputs": [
        {
          "output_type": "stream",
          "name": "stdout",
          "text": [
            "<class 'numpy.ndarray'>\n"
          ]
        }
      ],
      "source": [
        "# How many observations do we have?\n",
        "# NOTE: Data is in a NumPy array!\n",
        "\n",
        "print(type (digits.data))"
      ]
    },
    {
      "cell_type": "code",
      "execution_count": null,
      "metadata": {
        "colab": {
          "base_uri": "https://localhost:8080/"
        },
        "id": "1XDwvFbNsj05",
        "outputId": "ca741c79-e6bd-4bca-a55f-0040ad766890"
      },
      "outputs": [
        {
          "output_type": "execute_result",
          "data": {
            "text/plain": [
              "(1797, 64)"
            ]
          },
          "metadata": {},
          "execution_count": 31
        }
      ],
      "source": [
        "digits.data.shape"
      ]
    },
    {
      "cell_type": "code",
      "execution_count": null,
      "metadata": {
        "colab": {
          "base_uri": "https://localhost:8080/"
        },
        "id": "HMq5Gtv2sj05",
        "outputId": "580c4cde-f252-45ac-e317-fbd87106c87d"
      },
      "outputs": [
        {
          "output_type": "execute_result",
          "data": {
            "text/plain": [
              "array([ 0.,  0.,  0.,  2., 13.,  0.,  0.,  0.,  0.,  0.,  0.,  8., 15.,\n",
              "        0.,  0.,  0.,  0.,  0.,  5., 16.,  5.,  2.,  0.,  0.,  0.,  0.,\n",
              "       15., 12.,  1., 16.,  4.,  0.,  0.,  4., 16.,  2.,  9., 16.,  8.,\n",
              "        0.,  0.,  0., 10., 14., 16., 16.,  4.,  0.,  0.,  0.,  0.,  0.,\n",
              "       13.,  8.,  0.,  0.,  0.,  0.,  0.,  0., 13.,  6.,  0.,  0.])"
            ]
          },
          "metadata": {},
          "execution_count": 35
        }
      ],
      "source": [
        "digits.data[100]"
      ]
    },
    {
      "cell_type": "code",
      "execution_count": null,
      "metadata": {
        "colab": {
          "base_uri": "https://localhost:8080/",
          "height": 265
        },
        "id": "yph4GQcrsj06",
        "outputId": "9184e1d8-3d51-40e4-da8d-12abc8a332ab"
      },
      "outputs": [
        {
          "output_type": "display_data",
          "data": {
            "text/plain": [
              "<Figure size 432x288 with 1 Axes>"
            ],
            "image/png": "[encoded data removed]"
          },
          "metadata": {
            "needs_background": "light"
          }
        }
      ],
      "source": [
        "# Generate heatmap.\n",
        "plt.imshow(\n",
        "    digits.images[100],\n",
        "    cmap=plt.cm.gray_r,\n",
        ");"
      ]
    },
    {
      "cell_type": "code",
      "execution_count": null,
      "metadata": {
        "id": "CSHZruaRsj06"
      },
      "outputs": [],
      "source": []
    },
    {
      "cell_type": "code",
      "execution_count": null,
      "metadata": {
        "colab": {
          "base_uri": "https://localhost:8080/"
        },
        "id": "3Y--W1ppsj06",
        "outputId": "62aa078d-cb2d-41f6-af76-40ae94dd85f7"
      },
      "outputs": [
        {
          "output_type": "execute_result",
          "data": {
            "text/plain": [
              "4"
            ]
          },
          "metadata": {},
          "execution_count": 37
        }
      ],
      "source": [
        "# What is the actual class?\n",
        "digits.target[100]"
      ]
    },
    {
      "cell_type": "code",
      "execution_count": null,
      "metadata": {
        "id": "aa34_NQMsj06"
      },
      "outputs": [],
      "source": [
        "# Create X and y.\n",
        "\n",
        "X, y = digits.data, digits.target"
      ]
    },
    {
      "cell_type": "code",
      "execution_count": null,
      "metadata": {
        "id": "fGr8VJllsj07"
      },
      "outputs": [],
      "source": [
        "# Train/Test Split.\n",
        "X_train, X_test, y_train, y_test = train_test_split(\n",
        "    X,\n",
        "    y,\n",
        "    test_size=0.33,\n",
        "    random_state=42,\n",
        "    stratify=y\n",
        ")"
      ]
    },
    {
      "cell_type": "code",
      "execution_count": null,
      "metadata": {
        "id": "Yo0fcqdusj07"
      },
      "outputs": [],
      "source": [
        "# Instantiate support vector machine.\n",
        "svc = SVC()"
      ]
    },
    {
      "cell_type": "code",
      "execution_count": null,
      "metadata": {
        "colab": {
          "base_uri": "https://localhost:8080/"
        },
        "id": "q5cPXDWTsj07",
        "outputId": "20019fe2-ae4b-4cd7-f7a1-dec966256e7e"
      },
      "outputs": [
        {
          "output_type": "execute_result",
          "data": {
            "text/plain": [
              "SVC()"
            ]
          },
          "metadata": {},
          "execution_count": 41
        }
      ],
      "source": [
        "# Fit support vector machine to training data.\n",
        "svc.fit (X_train,y_train)"
      ]
    },
    {
      "cell_type": "code",
      "execution_count": null,
      "metadata": {
        "colab": {
          "base_uri": "https://localhost:8080/"
        },
        "id": "ZuEDsVFvsj07",
        "outputId": "a3ba0fe5-de5e-4dc3-86c8-8278e7b5db94"
      },
      "outputs": [
        {
          "output_type": "execute_result",
          "data": {
            "text/plain": [
              "0.99833748960931"
            ]
          },
          "metadata": {},
          "execution_count": 42
        }
      ],
      "source": [
        "svc.score(X_train,y_train)"
      ]
    },
    {
      "cell_type": "code",
      "execution_count": null,
      "metadata": {
        "colab": {
          "base_uri": "https://localhost:8080/"
        },
        "id": "UHhYmBsvsj07",
        "outputId": "e29ad69f-1d6f-49eb-94a4-36935ae6c4cb"
      },
      "outputs": [
        {
          "output_type": "execute_result",
          "data": {
            "text/plain": [
              "0.98989898989899"
            ]
          },
          "metadata": {},
          "execution_count": 43
        }
      ],
      "source": [
        "svc.score(X_test,y_test)"
      ]
    },
    {
      "cell_type": "code",
      "execution_count": null,
      "metadata": {
        "id": "nUpQU8kVsj07"
      },
      "outputs": [],
      "source": [
        "# Generate predictions.\n",
        "y_pred = svc.predict(X_test)"
      ]
    },
    {
      "cell_type": "code",
      "execution_count": null,
      "metadata": {
        "id": "XXroyhVFsj08"
      },
      "outputs": [],
      "source": [
        "# Measure performance based on accuracy.\n",
        "\n",
        "from sklearn.metrics import accuracy_score"
      ]
    },
    {
      "cell_type": "code",
      "execution_count": null,
      "metadata": {
        "colab": {
          "base_uri": "https://localhost:8080/"
        },
        "id": "QdUP5sY-sj08",
        "outputId": "1187bd1f-cd9f-4e75-cdb7-4728d2d3d6cb"
      },
      "outputs": [
        {
          "output_type": "execute_result",
          "data": {
            "text/plain": [
              "0.98989898989899"
            ]
          },
          "metadata": {},
          "execution_count": 46
        }
      ],
      "source": [
        "accuracy_score(y_test,y_pred)"
      ]
    },
    {
      "cell_type": "code",
      "source": [],
      "metadata": {
        "id": "ZO18WeWaFvls"
      },
      "execution_count": null,
      "outputs": []
    },
    {
      "cell_type": "markdown",
      "metadata": {
        "id": "V_IR-sYesj08"
      },
      "source": [
        "<details><summary>Is accuracy the best metric to use here? Why or why not?</summary>\n",
        "\n",
        "- Accuracy is likely the best metric to use here. Improperly classifying a number is equally bad, no matter what number you incorrectly predict. For example, misclassifying a `4` as a `3` or `5` or `9` is equally bad.\n",
        "- Many of our other classification metrics (like sensitivity and specificity) don't easily generalize to classification with more than two classes.\n",
        "</details>"
      ]
    },
    {
      "cell_type": "markdown",
      "metadata": {
        "id": "n8ikPYXmsj08"
      },
      "source": [
        "### Spend three minutes trying different hyperparameter values. (Feel free to guess and check or use GridSearch/RandomizedSearch!) We'll report our best values in a moment."
      ]
    },
    {
      "cell_type": "code",
      "execution_count": null,
      "metadata": {
        "colab": {
          "base_uri": "https://localhost:8080/"
        },
        "id": "HxNjRGGCsj08",
        "outputId": "2ce007fe-e8b3-43f1-fc8c-ab4b44f33da4"
      },
      "outputs": [
        {
          "output_type": "execute_result",
          "data": {
            "text/plain": [
              "SVC(C=100)"
            ]
          },
          "metadata": {},
          "execution_count": 47
        }
      ],
      "source": [
        "# Instantiate SVM.\n",
        "\n",
        "svc = SVC (\n",
        "\n",
        "    C = 100,\n",
        "    kernel = \"rbf\",\n",
        "    gamma = \"scale\"\n",
        ")\n",
        "\n",
        "# Fit on training data.\n",
        "\n",
        "svc.fit(X_train, y_train)\n",
        "\n",
        "# Evaluate model.\n",
        "\n",
        "# accuracy_score(y_test, svc.predict(X_test))\n",
        "\n"
      ]
    },
    {
      "cell_type": "code",
      "execution_count": null,
      "metadata": {
        "colab": {
          "base_uri": "https://localhost:8080/"
        },
        "id": "EwPIYbz3sj09",
        "outputId": "17fd3ccc-4aea-4436-d1ac-ac7c9b13808e"
      },
      "outputs": [
        {
          "output_type": "execute_result",
          "data": {
            "text/plain": [
              "1.0"
            ]
          },
          "metadata": {},
          "execution_count": 48
        }
      ],
      "source": [
        "svc.score(X_train,y_train)"
      ]
    },
    {
      "cell_type": "code",
      "execution_count": null,
      "metadata": {
        "colab": {
          "base_uri": "https://localhost:8080/"
        },
        "id": "O0JgBp-usj09",
        "outputId": "9213b060-20a9-466d-9a5a-cb4f527ce23a"
      },
      "outputs": [
        {
          "output_type": "execute_result",
          "data": {
            "text/plain": [
              "0.98989898989899"
            ]
          },
          "metadata": {},
          "execution_count": 49
        }
      ],
      "source": [
        "svc.score(X_test,y_test)"
      ]
    },
    {
      "cell_type": "code",
      "execution_count": null,
      "metadata": {
        "id": "no2Vmdj5sj09"
      },
      "outputs": [],
      "source": [
        "#import pandas \n",
        "import pandas as pd\n",
        "\n",
        "# Create DataFrame with column for predicted values.\n",
        "\n",
        "results = pd.DataFrame(svc.predict(X_test), columns =['predicted'])\n",
        "\n",
        "# Create column for observed values.\n",
        "results['actual'] = y_test"
      ]
    },
    {
      "cell_type": "code",
      "execution_count": null,
      "metadata": {
        "colab": {
          "base_uri": "https://localhost:8080/",
          "height": 206
        },
        "id": "4z0q3BQAsj09",
        "outputId": "976ef0ba-9623-45e0-9715-3867df27d8a2"
      },
      "outputs": [
        {
          "output_type": "execute_result",
          "data": {
            "text/plain": [
              "   predicted  actual\n",
              "0          6       6\n",
              "1          2       2\n",
              "2          3       3\n",
              "3          2       2\n",
              "4          2       2"
            ],
            "text/html": [
              "\n",
              "  <div id=\"df-c5517dbe-6e62-45ac-b56e-71a89f04d3fe\">\n",
              "    <div class=\"colab-df-container\">\n",
              "      <div>\n",
              "<style scoped>\n",
              "    .dataframe tbody tr th:only-of-type {\n",
              "        vertical-align: middle;\n",
              "    }\n",
              "\n",
              "    .dataframe tbody tr th {\n",
              "        vertical-align: top;\n",
              "    }\n",
              "\n",
              "    .dataframe thead th {\n",
              "        text-align: right;\n",
              "    }\n",
              "</style>\n",
              "<table border=\"1\" class=\"dataframe\">\n",
              "  <thead>\n",
              "    <tr style=\"text-align: right;\">\n",
              "      <th></th>\n",
              "      <th>predicted</th>\n",
              "      <th>actual</th>\n",
              "    </tr>\n",
              "  </thead>\n",
              "  <tbody>\n",
              "    <tr>\n",
              "      <th>0</th>\n",
              "      <td>6</td>\n",
              "      <td>6</td>\n",
              "    </tr>\n",
              "    <tr>\n",
              "      <th>1</th>\n",
              "      <td>2</td>\n",
              "      <td>2</td>\n",
              "    </tr>\n",
              "    <tr>\n",
              "      <th>2</th>\n",
              "      <td>3</td>\n",
              "      <td>3</td>\n",
              "    </tr>\n",
              "    <tr>\n",
              "      <th>3</th>\n",
              "      <td>2</td>\n",
              "      <td>2</td>\n",
              "    </tr>\n",
              "    <tr>\n",
              "      <th>4</th>\n",
              "      <td>2</td>\n",
              "      <td>2</td>\n",
              "    </tr>\n",
              "  </tbody>\n",
              "</table>\n",
              "</div>\n",
              "      <button class=\"colab-df-convert\" onclick=\"convertToInteractive('df-c5517dbe-6e62-45ac-b56e-71a89f04d3fe')\"\n",
              "              title=\"Convert this dataframe to an interactive table.\"\n",
              "              style=\"display:none;\">\n",
              "        \n",
              "  <svg xmlns=\"http://www.w3.org/2000/svg\" height=\"24px\"viewBox=\"0 0 24 24\"\n",
              "       width=\"24px\">\n",
              "    <path d=\"M0 0h24v24H0V0z\" fill=\"none\"/>\n",
              "    <path d=\"M18.56 5.44l.94 2.06.94-2.06 2.06-.94-2.06-.94-.94-2.06-.94 2.06-2.06.94zm-11 1L8.5 8.5l.94-2.06 2.06-.94-2.06-.94L8.5 2.5l-.94 2.06-2.06.94zm10 10l.94 2.06.94-2.06 2.06-.94-2.06-.94-.94-2.06-.94 2.06-2.06.94z\"/><path d=\"M17.41 7.96l-1.37-1.37c-.4-.4-.92-.59-1.43-.59-.52 0-1.04.2-1.43.59L10.3 9.45l-7.72 7.72c-.78.78-.78 2.05 0 2.83L4 21.41c.39.39.9.59 1.41.59.51 0 1.02-.2 1.41-.59l7.78-7.78 2.81-2.81c.8-.78.8-2.07 0-2.86zM5.41 20L4 18.59l7.72-7.72 1.47 1.35L5.41 20z\"/>\n",
              "  </svg>\n",
              "      </button>\n",
              "      \n",
              "  <style>\n",
              "    .colab-df-container {\n",
              "      display:flex;\n",
              "      flex-wrap:wrap;\n",
              "      gap: 12px;\n",
              "    }\n",
              "\n",
              "    .colab-df-convert {\n",
              "      background-color: #E8F0FE;\n",
              "      border: none;\n",
              "      border-radius: 50%;\n",
              "      cursor: pointer;\n",
              "      display: none;\n",
              "      fill: #1967D2;\n",
              "      height: 32px;\n",
              "      padding: 0 0 0 0;\n",
              "      width: 32px;\n",
              "    }\n",
              "\n",
              "    .colab-df-convert:hover {\n",
              "      background-color: #E2EBFA;\n",
              "      box-shadow: 0px 1px 2px rgba(60, 64, 67, 0.3), 0px 1px 3px 1px rgba(60, 64, 67, 0.15);\n",
              "      fill: #174EA6;\n",
              "    }\n",
              "\n",
              "    [theme=dark] .colab-df-convert {\n",
              "      background-color: #3B4455;\n",
              "      fill: #D2E3FC;\n",
              "    }\n",
              "\n",
              "    [theme=dark] .colab-df-convert:hover {\n",
              "      background-color: #434B5C;\n",
              "      box-shadow: 0px 1px 3px 1px rgba(0, 0, 0, 0.15);\n",
              "      filter: drop-shadow(0px 1px 2px rgba(0, 0, 0, 0.3));\n",
              "      fill: #FFFFFF;\n",
              "    }\n",
              "  </style>\n",
              "\n",
              "      <script>\n",
              "        const buttonEl =\n",
              "          document.querySelector('#df-c5517dbe-6e62-45ac-b56e-71a89f04d3fe button.colab-df-convert');\n",
              "        buttonEl.style.display =\n",
              "          google.colab.kernel.accessAllowed ? 'block' : 'none';\n",
              "\n",
              "        async function convertToInteractive(key) {\n",
              "          const element = document.querySelector('#df-c5517dbe-6e62-45ac-b56e-71a89f04d3fe');\n",
              "          const dataTable =\n",
              "            await google.colab.kernel.invokeFunction('convertToInteractive',\n",
              "                                                     [key], {});\n",
              "          if (!dataTable) return;\n",
              "\n",
              "          const docLinkHtml = 'Like what you see? Visit the ' +\n",
              "            '<a target=\"_blank\" href=https://colab.research.google.com/notebooks/data_table.ipynb>data table notebook</a>'\n",
              "            + ' to learn more about interactive tables.';\n",
              "          element.innerHTML = '';\n",
              "          dataTable['output_type'] = 'display_data';\n",
              "          await google.colab.output.renderOutput(dataTable, element);\n",
              "          const docLink = document.createElement('div');\n",
              "          docLink.innerHTML = docLinkHtml;\n",
              "          element.appendChild(docLink);\n",
              "        }\n",
              "      </script>\n",
              "    </div>\n",
              "  </div>\n",
              "  "
            ]
          },
          "metadata": {},
          "execution_count": 51
        }
      ],
      "source": [
        "# Check out first five rows.\n",
        "results.head()"
      ]
    },
    {
      "cell_type": "code",
      "execution_count": null,
      "metadata": {
        "id": "cMtpgRe_sj09"
      },
      "outputs": [],
      "source": [
        "# Find all indices where predicted and true results \n",
        "# aren't the same, then save in an array.\n",
        "\n",
        "row_ids = results[results['predicted'] != results['actual']].index\n"
      ]
    },
    {
      "cell_type": "code",
      "execution_count": null,
      "metadata": {
        "colab": {
          "base_uri": "https://localhost:8080/"
        },
        "id": "mcTuN48bsj0-",
        "outputId": "816eafd3-9d05-4ecb-9045-cb4983f2c9da"
      },
      "outputs": [
        {
          "output_type": "stream",
          "name": "stdout",
          "text": [
            "Int64Index([56, 154, 223, 328, 347, 373], dtype='int64')\n"
          ]
        }
      ],
      "source": [
        "print(row_ids)"
      ]
    },
    {
      "cell_type": "code",
      "execution_count": null,
      "metadata": {
        "id": "5GUeHC_Hsj0-"
      },
      "outputs": [],
      "source": [
        "# Create function that shows image, then \n",
        "# prints predicted and true values.\n",
        "def print_number(index):\n",
        "    plt.imshow(digits.images[index],\n",
        "               cmap=plt.cm.gray_r,\n",
        "               interpolation='nearest')\n",
        "    plt.show()\n",
        "    print(f'The model guessed this was: {results[\"predicted\"].iloc[index]}.')\n",
        "    print(f'This actually is: {results[\"actual\"].iloc[index]}.')\n",
        "    print()"
      ]
    },
    {
      "cell_type": "code",
      "execution_count": null,
      "metadata": {
        "scrolled": false,
        "colab": {
          "base_uri": "https://localhost:8080/",
          "height": 1000
        },
        "id": "S7wEt0P_sj0-",
        "outputId": "0f8c591f-00b6-4943-fda5-f8af8f39d969"
      },
      "outputs": [
        {
          "output_type": "display_data",
          "data": {
            "text/plain": [
              "<Figure size 432x288 with 1 Axes>"
            ],
            "image/png": "[encoded data removed]"
          },
          "metadata": {
            "needs_background": "light"
          }
        },
        {
          "output_type": "stream",
          "name": "stdout",
          "text": [
            "The model guessed this was: 1.\n",
            "This actually is: 8.\n",
            "\n"
          ]
        },
        {
          "output_type": "display_data",
          "data": {
            "text/plain": [
              "<Figure size 432x288 with 1 Axes>"
            ],
            "image/png": "[encoded data removed]"
          },
          "metadata": {
            "needs_background": "light"
          }
        },
        {
          "output_type": "stream",
          "name": "stdout",
          "text": [
            "The model guessed this was: 9.\n",
            "This actually is: 5.\n",
            "\n"
          ]
        },
        {
          "output_type": "display_data",
          "data": {
            "text/plain": [
              "<Figure size 432x288 with 1 Axes>"
            ],
            "image/png": "[encoded data removed]"
          },
          "metadata": {
            "needs_background": "light"
          }
        },
        {
          "output_type": "stream",
          "name": "stdout",
          "text": [
            "The model guessed this was: 4.\n",
            "This actually is: 0.\n",
            "\n"
          ]
        },
        {
          "output_type": "display_data",
          "data": {
            "text/plain": [
              "<Figure size 432x288 with 1 Axes>"
            ],
            "image/png": "[encoded data removed]"
          },
          "metadata": {
            "needs_background": "light"
          }
        },
        {
          "output_type": "stream",
          "name": "stdout",
          "text": [
            "The model guessed this was: 1.\n",
            "This actually is: 8.\n",
            "\n"
          ]
        },
        {
          "output_type": "display_data",
          "data": {
            "text/plain": [
              "<Figure size 432x288 with 1 Axes>"
            ],
            "image/png": "[encoded data removed]"
          },
          "metadata": {
            "needs_background": "light"
          }
        },
        {
          "output_type": "stream",
          "name": "stdout",
          "text": [
            "The model guessed this was: 1.\n",
            "This actually is: 8.\n",
            "\n"
          ]
        },
        {
          "output_type": "display_data",
          "data": {
            "text/plain": [
              "<Figure size 432x288 with 1 Axes>"
            ],
            "image/png": "[encoded data removed]"
          },
          "metadata": {
            "needs_background": "light"
          }
        },
        {
          "output_type": "stream",
          "name": "stdout",
          "text": [
            "The model guessed this was: 7.\n",
            "This actually is: 9.\n",
            "\n"
          ]
        }
      ],
      "source": [
        "# Use for loop to visualize all mistakes.\n",
        "\n",
        "for value in row_ids:\n",
        "    print_number(value)"
      ]
    },
    {
      "cell_type": "markdown",
      "metadata": {
        "id": "TTgyLnj-sj0-"
      },
      "source": [
        "### Support Vector Machines aren't even just for classification!\n",
        "\n",
        "SVMs can be used for regression problems as well! The main ideas are the same - we still specify a cost tolerance `C` and a kernel - but [it's a bit more complicated](https://www.saedsayad.com/support_vector_machine_reg.htm). (For example, visualizing a \"margin\" is easier to do when we're separating two classes than when we're trying to predict some continuous outcome.) For this reason, we won't get into the mathematical details of support vector machines applied to regression, but we can instantiate a model using `svr = sklearn.svm.SVR()` and `.fit()`, `.predict()` like we do with all of our other models! Check out the documentation for [regression SVMs here](http://scikit-learn.org/stable/modules/generated/sklearn.svm.SVR.html)."
      ]
    },
    {
      "cell_type": "markdown",
      "metadata": {
        "id": "SlgQctm4sj0-"
      },
      "source": [
        "### Pros and Cons of SVMs\n",
        "\n",
        "#### Pros\n",
        "- Exceptional perfomance (historically widely used)\n",
        "- Effective in high-dimensional data\n",
        "- Can work with non-linear boundaries\n",
        "- Fast to compute with most datasets (kernel trick)\n",
        "\n",
        "#### Cons\n",
        "- Black box method\n",
        "- Can be slow on large (tall) datasets"
      ]
    },
    {
      "cell_type": "markdown",
      "metadata": {
        "id": "ak7OtV_tsj0_"
      },
      "source": [
        "# Concluding Remarks and Fun Facts\n",
        "* SVMs are fantastic models if all you care about is predictive ability.\n",
        "* They are complete and total black boxes, sorry.\n",
        "* You must scale your data.\n",
        "* By the way, doing a kernel SVM with polynomial kernel degree = 2 has been shown to work really well for NLP data!"
      ]
    }
  ],
  "metadata": {
    "kernelspec": {
      "display_name": "Python 3",
      "language": "python",
      "name": "python3"
    },
    "language_info": {
      "codemirror_mode": {
        "name": "ipython",
        "version": 3
      },
      "file_extension": ".py",
      "mimetype": "text/x-python",
      "name": "python",
      "nbconvert_exporter": "python",
      "pygments_lexer": "ipython3",
      "version": "3.8.5"
    },
    "colab": {
      "provenance": []
    }
  },
  "nbformat": 4,
  "nbformat_minor": 0
}