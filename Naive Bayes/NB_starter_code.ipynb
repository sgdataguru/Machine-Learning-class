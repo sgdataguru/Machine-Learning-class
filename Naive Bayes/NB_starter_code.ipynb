{
  "cells": [
    {
      "cell_type": "markdown",
      "metadata": {
        "id": "VR7tG4-xCX0h"
      },
      "source": [
        "## Naive Bayes\n",
        "\n",
        "We've looked at the Naive Bayes classifier from a probability point of view. Now let's apply code to it to a natural language processing problem.\n",
        "\n",
        "### Before we begin... what is natural language processing?\n",
        "\n",
        "- If I'm explaining this to my non-technical peers, natural language processing is just a way for us to get computers to understand written language the way you and I do.\n",
        "\n",
        "- If I'm explaining this to someone with a more technical background, natural language processing is a set of tools that represent words as numbers. This is commonly done by feature engineering (i.e. turning words into columns in your dataframe), but more complicated methods exist.\n",
        "\n",
        "You'll often see natural language processing abbreviated as **NLP**.\n",
        "\n",
        "You and I will use these social media posts in a Naive Bayes classification model to predict whether a post comes from Twitter or Facebook."
      ]
    },
    {
      "cell_type": "markdown",
      "metadata": {
        "id": "dOsPU2t1CX0l"
      },
      "source": [
        "#### First: some data cleaning."
      ]
    },
    {
      "cell_type": "code",
      "execution_count": 1,
      "metadata": {
        "id": "6kjBrX3BCX0m"
      },
      "outputs": [],
      "source": [
        "import pandas as pd "
      ]
    },
    {
      "cell_type": "code",
      "execution_count": 8,
      "metadata": {
        "id": "kKFXL9ELCX0n"
      },
      "outputs": [],
      "source": [
        "df = pd.read_csv(\"/content/unprocessed_tweets.csv\",encoding='latin-1')"
      ]
    },
    {
      "cell_type": "code",
      "execution_count": 4,
      "metadata": {
        "colab": {
          "base_uri": "https://localhost:8080/",
          "height": 560
        },
        "id": "Itplm-PZCX0n",
        "outputId": "73df7fa3-6a5a-4fde-9bd4-d4ec48348541"
      },
      "outputs": [
        {
          "output_type": "execute_result",
          "data": {
            "text/plain": [
              "    _unit_id  _golden _unit_state  _trusted_judgments _last_judgment_at  \\\n",
              "0  766192484    False   finalized                   1      8/4/15 21:17   \n",
              "1  766192485    False   finalized                   1      8/4/15 21:20   \n",
              "2  766192486    False   finalized                   1      8/4/15 21:14   \n",
              "3  766192487    False   finalized                   1      8/4/15 21:08   \n",
              "4  766192488    False   finalized                   1      8/4/15 21:26   \n",
              "\n",
              "   audience  audience:confidence      bias  bias:confidence  message  ...  \\\n",
              "0  national                  1.0  partisan              1.0   policy  ...   \n",
              "1  national                  1.0  partisan              1.0   attack  ...   \n",
              "2  national                  1.0   neutral              1.0  support  ...   \n",
              "3  national                  1.0   neutral              1.0   policy  ...   \n",
              "4  national                  1.0  partisan              1.0   policy  ...   \n",
              "\n",
              "   orig__golden  audience_gold  bias_gold    bioid  \\\n",
              "0           NaN            NaN        NaN  R000596   \n",
              "1           NaN            NaN        NaN  M000355   \n",
              "2           NaN            NaN        NaN  S001180   \n",
              "3           NaN            NaN        NaN  C000880   \n",
              "4           NaN            NaN        NaN  U000038   \n",
              "\n",
              "                                               embed           id  \\\n",
              "0  <blockquote class=\"twitter-tweet\" width=\"450\">...  3.83249E+17   \n",
              "1  <blockquote class=\"twitter-tweet\" width=\"450\">...  3.11208E+17   \n",
              "2  <blockquote class=\"twitter-tweet\" width=\"450\">...  3.39069E+17   \n",
              "3  <blockquote class=\"twitter-tweet\" width=\"450\">...  2.98528E+17   \n",
              "4  <blockquote class=\"twitter-tweet\" width=\"450\">...  4.07643E+17   \n",
              "\n",
              "                                              label message_gold   source  \\\n",
              "0    From: Trey Radel (Representative from Florida)          NaN  twitter   \n",
              "1     From: Mitch McConnell (Senator from Kentucky)          NaN  twitter   \n",
              "2  From: Kurt Schrader (Representative from Oregon)          NaN  twitter   \n",
              "3          From: Michael Crapo (Senator from Idaho)          NaN  twitter   \n",
              "4          From: Mark Udall (Senator from Colorado)          NaN  twitter   \n",
              "\n",
              "                                                text  \n",
              "0  RT @nowthisnews: Rep. Trey Radel (R- #FL) slam...  \n",
              "1  VIDEO - #Obamacare:  Full of Higher Costs and ...  \n",
              "2  Please join me today in remembering our fallen...  \n",
              "3  RT @SenatorLeahy: 1st step toward Senate debat...  \n",
              "4  .@amazon delivery #drones show need to update ...  \n",
              "\n",
              "[5 rows x 21 columns]"
            ],
            "text/html": [
              "\n",
              "  <div id=\"df-4006506c-2996-4740-9fc4-9aa25db2b42a\">\n",
              "    <div class=\"colab-df-container\">\n",
              "      <div>\n",
              "<style scoped>\n",
              "    .dataframe tbody tr th:only-of-type {\n",
              "        vertical-align: middle;\n",
              "    }\n",
              "\n",
              "    .dataframe tbody tr th {\n",
              "        vertical-align: top;\n",
              "    }\n",
              "\n",
              "    .dataframe thead th {\n",
              "        text-align: right;\n",
              "    }\n",
              "</style>\n",
              "<table border=\"1\" class=\"dataframe\">\n",
              "  <thead>\n",
              "    <tr style=\"text-align: right;\">\n",
              "      <th></th>\n",
              "      <th>_unit_id</th>\n",
              "      <th>_golden</th>\n",
              "      <th>_unit_state</th>\n",
              "      <th>_trusted_judgments</th>\n",
              "      <th>_last_judgment_at</th>\n",
              "      <th>audience</th>\n",
              "      <th>audience:confidence</th>\n",
              "      <th>bias</th>\n",
              "      <th>bias:confidence</th>\n",
              "      <th>message</th>\n",
              "      <th>...</th>\n",
              "      <th>orig__golden</th>\n",
              "      <th>audience_gold</th>\n",
              "      <th>bias_gold</th>\n",
              "      <th>bioid</th>\n",
              "      <th>embed</th>\n",
              "      <th>id</th>\n",
              "      <th>label</th>\n",
              "      <th>message_gold</th>\n",
              "      <th>source</th>\n",
              "      <th>text</th>\n",
              "    </tr>\n",
              "  </thead>\n",
              "  <tbody>\n",
              "    <tr>\n",
              "      <th>0</th>\n",
              "      <td>766192484</td>\n",
              "      <td>False</td>\n",
              "      <td>finalized</td>\n",
              "      <td>1</td>\n",
              "      <td>8/4/15 21:17</td>\n",
              "      <td>national</td>\n",
              "      <td>1.0</td>\n",
              "      <td>partisan</td>\n",
              "      <td>1.0</td>\n",
              "      <td>policy</td>\n",
              "      <td>...</td>\n",
              "      <td>NaN</td>\n",
              "      <td>NaN</td>\n",
              "      <td>NaN</td>\n",
              "      <td>R000596</td>\n",
              "      <td>&lt;blockquote class=\"twitter-tweet\" width=\"450\"&gt;...</td>\n",
              "      <td>3.83249E+17</td>\n",
              "      <td>From: Trey Radel (Representative from Florida)</td>\n",
              "      <td>NaN</td>\n",
              "      <td>twitter</td>\n",
              "      <td>RT @nowthisnews: Rep. Trey Radel (R- #FL) slam...</td>\n",
              "    </tr>\n",
              "    <tr>\n",
              "      <th>1</th>\n",
              "      <td>766192485</td>\n",
              "      <td>False</td>\n",
              "      <td>finalized</td>\n",
              "      <td>1</td>\n",
              "      <td>8/4/15 21:20</td>\n",
              "      <td>national</td>\n",
              "      <td>1.0</td>\n",
              "      <td>partisan</td>\n",
              "      <td>1.0</td>\n",
              "      <td>attack</td>\n",
              "      <td>...</td>\n",
              "      <td>NaN</td>\n",
              "      <td>NaN</td>\n",
              "      <td>NaN</td>\n",
              "      <td>M000355</td>\n",
              "      <td>&lt;blockquote class=\"twitter-tweet\" width=\"450\"&gt;...</td>\n",
              "      <td>3.11208E+17</td>\n",
              "      <td>From: Mitch McConnell (Senator from Kentucky)</td>\n",
              "      <td>NaN</td>\n",
              "      <td>twitter</td>\n",
              "      <td>VIDEO - #Obamacare:  Full of Higher Costs and ...</td>\n",
              "    </tr>\n",
              "    <tr>\n",
              "      <th>2</th>\n",
              "      <td>766192486</td>\n",
              "      <td>False</td>\n",
              "      <td>finalized</td>\n",
              "      <td>1</td>\n",
              "      <td>8/4/15 21:14</td>\n",
              "      <td>national</td>\n",
              "      <td>1.0</td>\n",
              "      <td>neutral</td>\n",
              "      <td>1.0</td>\n",
              "      <td>support</td>\n",
              "      <td>...</td>\n",
              "      <td>NaN</td>\n",
              "      <td>NaN</td>\n",
              "      <td>NaN</td>\n",
              "      <td>S001180</td>\n",
              "      <td>&lt;blockquote class=\"twitter-tweet\" width=\"450\"&gt;...</td>\n",
              "      <td>3.39069E+17</td>\n",
              "      <td>From: Kurt Schrader (Representative from Oregon)</td>\n",
              "      <td>NaN</td>\n",
              "      <td>twitter</td>\n",
              "      <td>Please join me today in remembering our fallen...</td>\n",
              "    </tr>\n",
              "    <tr>\n",
              "      <th>3</th>\n",
              "      <td>766192487</td>\n",
              "      <td>False</td>\n",
              "      <td>finalized</td>\n",
              "      <td>1</td>\n",
              "      <td>8/4/15 21:08</td>\n",
              "      <td>national</td>\n",
              "      <td>1.0</td>\n",
              "      <td>neutral</td>\n",
              "      <td>1.0</td>\n",
              "      <td>policy</td>\n",
              "      <td>...</td>\n",
              "      <td>NaN</td>\n",
              "      <td>NaN</td>\n",
              "      <td>NaN</td>\n",
              "      <td>C000880</td>\n",
              "      <td>&lt;blockquote class=\"twitter-tweet\" width=\"450\"&gt;...</td>\n",
              "      <td>2.98528E+17</td>\n",
              "      <td>From: Michael Crapo (Senator from Idaho)</td>\n",
              "      <td>NaN</td>\n",
              "      <td>twitter</td>\n",
              "      <td>RT @SenatorLeahy: 1st step toward Senate debat...</td>\n",
              "    </tr>\n",
              "    <tr>\n",
              "      <th>4</th>\n",
              "      <td>766192488</td>\n",
              "      <td>False</td>\n",
              "      <td>finalized</td>\n",
              "      <td>1</td>\n",
              "      <td>8/4/15 21:26</td>\n",
              "      <td>national</td>\n",
              "      <td>1.0</td>\n",
              "      <td>partisan</td>\n",
              "      <td>1.0</td>\n",
              "      <td>policy</td>\n",
              "      <td>...</td>\n",
              "      <td>NaN</td>\n",
              "      <td>NaN</td>\n",
              "      <td>NaN</td>\n",
              "      <td>U000038</td>\n",
              "      <td>&lt;blockquote class=\"twitter-tweet\" width=\"450\"&gt;...</td>\n",
              "      <td>4.07643E+17</td>\n",
              "      <td>From: Mark Udall (Senator from Colorado)</td>\n",
              "      <td>NaN</td>\n",
              "      <td>twitter</td>\n",
              "      <td>.@amazon delivery #drones show need to update ...</td>\n",
              "    </tr>\n",
              "  </tbody>\n",
              "</table>\n",
              "<p>5 rows × 21 columns</p>\n",
              "</div>\n",
              "      <button class=\"colab-df-convert\" onclick=\"convertToInteractive('df-4006506c-2996-4740-9fc4-9aa25db2b42a')\"\n",
              "              title=\"Convert this dataframe to an interactive table.\"\n",
              "              style=\"display:none;\">\n",
              "        \n",
              "  <svg xmlns=\"http://www.w3.org/2000/svg\" height=\"24px\"viewBox=\"0 0 24 24\"\n",
              "       width=\"24px\">\n",
              "    <path d=\"M0 0h24v24H0V0z\" fill=\"none\"/>\n",
              "    <path d=\"M18.56 5.44l.94 2.06.94-2.06 2.06-.94-2.06-.94-.94-2.06-.94 2.06-2.06.94zm-11 1L8.5 8.5l.94-2.06 2.06-.94-2.06-.94L8.5 2.5l-.94 2.06-2.06.94zm10 10l.94 2.06.94-2.06 2.06-.94-2.06-.94-.94-2.06-.94 2.06-2.06.94z\"/><path d=\"M17.41 7.96l-1.37-1.37c-.4-.4-.92-.59-1.43-.59-.52 0-1.04.2-1.43.59L10.3 9.45l-7.72 7.72c-.78.78-.78 2.05 0 2.83L4 21.41c.39.39.9.59 1.41.59.51 0 1.02-.2 1.41-.59l7.78-7.78 2.81-2.81c.8-.78.8-2.07 0-2.86zM5.41 20L4 18.59l7.72-7.72 1.47 1.35L5.41 20z\"/>\n",
              "  </svg>\n",
              "      </button>\n",
              "      \n",
              "  <style>\n",
              "    .colab-df-container {\n",
              "      display:flex;\n",
              "      flex-wrap:wrap;\n",
              "      gap: 12px;\n",
              "    }\n",
              "\n",
              "    .colab-df-convert {\n",
              "      background-color: #E8F0FE;\n",
              "      border: none;\n",
              "      border-radius: 50%;\n",
              "      cursor: pointer;\n",
              "      display: none;\n",
              "      fill: #1967D2;\n",
              "      height: 32px;\n",
              "      padding: 0 0 0 0;\n",
              "      width: 32px;\n",
              "    }\n",
              "\n",
              "    .colab-df-convert:hover {\n",
              "      background-color: #E2EBFA;\n",
              "      box-shadow: 0px 1px 2px rgba(60, 64, 67, 0.3), 0px 1px 3px 1px rgba(60, 64, 67, 0.15);\n",
              "      fill: #174EA6;\n",
              "    }\n",
              "\n",
              "    [theme=dark] .colab-df-convert {\n",
              "      background-color: #3B4455;\n",
              "      fill: #D2E3FC;\n",
              "    }\n",
              "\n",
              "    [theme=dark] .colab-df-convert:hover {\n",
              "      background-color: #434B5C;\n",
              "      box-shadow: 0px 1px 3px 1px rgba(0, 0, 0, 0.15);\n",
              "      filter: drop-shadow(0px 1px 2px rgba(0, 0, 0, 0.3));\n",
              "      fill: #FFFFFF;\n",
              "    }\n",
              "  </style>\n",
              "\n",
              "      <script>\n",
              "        const buttonEl =\n",
              "          document.querySelector('#df-4006506c-2996-4740-9fc4-9aa25db2b42a button.colab-df-convert');\n",
              "        buttonEl.style.display =\n",
              "          google.colab.kernel.accessAllowed ? 'block' : 'none';\n",
              "\n",
              "        async function convertToInteractive(key) {\n",
              "          const element = document.querySelector('#df-4006506c-2996-4740-9fc4-9aa25db2b42a');\n",
              "          const dataTable =\n",
              "            await google.colab.kernel.invokeFunction('convertToInteractive',\n",
              "                                                     [key], {});\n",
              "          if (!dataTable) return;\n",
              "\n",
              "          const docLinkHtml = 'Like what you see? Visit the ' +\n",
              "            '<a target=\"_blank\" href=https://colab.research.google.com/notebooks/data_table.ipynb>data table notebook</a>'\n",
              "            + ' to learn more about interactive tables.';\n",
              "          element.innerHTML = '';\n",
              "          dataTable['output_type'] = 'display_data';\n",
              "          await google.colab.output.renderOutput(dataTable, element);\n",
              "          const docLink = document.createElement('div');\n",
              "          docLink.innerHTML = docLinkHtml;\n",
              "          element.appendChild(docLink);\n",
              "        }\n",
              "      </script>\n",
              "    </div>\n",
              "  </div>\n",
              "  "
            ]
          },
          "metadata": {},
          "execution_count": 4
        }
      ],
      "source": [
        "df.head()"
      ]
    },
    {
      "cell_type": "code",
      "execution_count": null,
      "metadata": {
        "id": "U1RLCE43CX0o"
      },
      "outputs": [],
      "source": []
    },
    {
      "cell_type": "code",
      "execution_count": null,
      "metadata": {
        "id": "30Qu0oxSCX0p"
      },
      "outputs": [],
      "source": []
    },
    {
      "cell_type": "code",
      "execution_count": 9,
      "metadata": {
        "id": "KdP0UoFtCX0p"
      },
      "outputs": [],
      "source": [
        "# Remove all values with an \"audience confidence,\" \"bias\n",
        "# confidence,\" or \"message confidence\" score below 1.\n",
        "\n",
        "df = df[(df['audience:confidence']>=1) & (df['bias:confidence']>=1) & (df['message:confidence']>=1)]\n"
      ]
    },
    {
      "cell_type": "code",
      "execution_count": 10,
      "metadata": {
        "id": "v1R0p0S6CX0q"
      },
      "outputs": [],
      "source": [
        "# Remove extra columns.\n",
        "\n",
        "df = df[['_unit_id','_trusted_judgments','audience','bias','message','label','source','text']]\n"
      ]
    },
    {
      "cell_type": "code",
      "execution_count": 11,
      "metadata": {
        "colab": {
          "base_uri": "https://localhost:8080/",
          "height": 354
        },
        "id": "c2a6LapLCX0q",
        "outputId": "eb7a4d6c-5cb5-459d-946d-2f038b26d788"
      },
      "outputs": [
        {
          "output_type": "execute_result",
          "data": {
            "text/plain": [
              "    _unit_id  _trusted_judgments  audience      bias  message  \\\n",
              "0  766192484                   1  national  partisan   policy   \n",
              "1  766192485                   1  national  partisan   attack   \n",
              "2  766192486                   1  national   neutral  support   \n",
              "3  766192487                   1  national   neutral   policy   \n",
              "4  766192488                   1  national  partisan   policy   \n",
              "\n",
              "                                              label   source  \\\n",
              "0    From: Trey Radel (Representative from Florida)  twitter   \n",
              "1     From: Mitch McConnell (Senator from Kentucky)  twitter   \n",
              "2  From: Kurt Schrader (Representative from Oregon)  twitter   \n",
              "3          From: Michael Crapo (Senator from Idaho)  twitter   \n",
              "4          From: Mark Udall (Senator from Colorado)  twitter   \n",
              "\n",
              "                                                text  \n",
              "0  RT @nowthisnews: Rep. Trey Radel (R- #FL) slam...  \n",
              "1  VIDEO - #Obamacare:  Full of Higher Costs and ...  \n",
              "2  Please join me today in remembering our fallen...  \n",
              "3  RT @SenatorLeahy: 1st step toward Senate debat...  \n",
              "4  .@amazon delivery #drones show need to update ...  "
            ],
            "text/html": [
              "\n",
              "  <div id=\"df-02f133a5-5f69-4451-b09e-7c21e25f9599\">\n",
              "    <div class=\"colab-df-container\">\n",
              "      <div>\n",
              "<style scoped>\n",
              "    .dataframe tbody tr th:only-of-type {\n",
              "        vertical-align: middle;\n",
              "    }\n",
              "\n",
              "    .dataframe tbody tr th {\n",
              "        vertical-align: top;\n",
              "    }\n",
              "\n",
              "    .dataframe thead th {\n",
              "        text-align: right;\n",
              "    }\n",
              "</style>\n",
              "<table border=\"1\" class=\"dataframe\">\n",
              "  <thead>\n",
              "    <tr style=\"text-align: right;\">\n",
              "      <th></th>\n",
              "      <th>_unit_id</th>\n",
              "      <th>_trusted_judgments</th>\n",
              "      <th>audience</th>\n",
              "      <th>bias</th>\n",
              "      <th>message</th>\n",
              "      <th>label</th>\n",
              "      <th>source</th>\n",
              "      <th>text</th>\n",
              "    </tr>\n",
              "  </thead>\n",
              "  <tbody>\n",
              "    <tr>\n",
              "      <th>0</th>\n",
              "      <td>766192484</td>\n",
              "      <td>1</td>\n",
              "      <td>national</td>\n",
              "      <td>partisan</td>\n",
              "      <td>policy</td>\n",
              "      <td>From: Trey Radel (Representative from Florida)</td>\n",
              "      <td>twitter</td>\n",
              "      <td>RT @nowthisnews: Rep. Trey Radel (R- #FL) slam...</td>\n",
              "    </tr>\n",
              "    <tr>\n",
              "      <th>1</th>\n",
              "      <td>766192485</td>\n",
              "      <td>1</td>\n",
              "      <td>national</td>\n",
              "      <td>partisan</td>\n",
              "      <td>attack</td>\n",
              "      <td>From: Mitch McConnell (Senator from Kentucky)</td>\n",
              "      <td>twitter</td>\n",
              "      <td>VIDEO - #Obamacare:  Full of Higher Costs and ...</td>\n",
              "    </tr>\n",
              "    <tr>\n",
              "      <th>2</th>\n",
              "      <td>766192486</td>\n",
              "      <td>1</td>\n",
              "      <td>national</td>\n",
              "      <td>neutral</td>\n",
              "      <td>support</td>\n",
              "      <td>From: Kurt Schrader (Representative from Oregon)</td>\n",
              "      <td>twitter</td>\n",
              "      <td>Please join me today in remembering our fallen...</td>\n",
              "    </tr>\n",
              "    <tr>\n",
              "      <th>3</th>\n",
              "      <td>766192487</td>\n",
              "      <td>1</td>\n",
              "      <td>national</td>\n",
              "      <td>neutral</td>\n",
              "      <td>policy</td>\n",
              "      <td>From: Michael Crapo (Senator from Idaho)</td>\n",
              "      <td>twitter</td>\n",
              "      <td>RT @SenatorLeahy: 1st step toward Senate debat...</td>\n",
              "    </tr>\n",
              "    <tr>\n",
              "      <th>4</th>\n",
              "      <td>766192488</td>\n",
              "      <td>1</td>\n",
              "      <td>national</td>\n",
              "      <td>partisan</td>\n",
              "      <td>policy</td>\n",
              "      <td>From: Mark Udall (Senator from Colorado)</td>\n",
              "      <td>twitter</td>\n",
              "      <td>.@amazon delivery #drones show need to update ...</td>\n",
              "    </tr>\n",
              "  </tbody>\n",
              "</table>\n",
              "</div>\n",
              "      <button class=\"colab-df-convert\" onclick=\"convertToInteractive('df-02f133a5-5f69-4451-b09e-7c21e25f9599')\"\n",
              "              title=\"Convert this dataframe to an interactive table.\"\n",
              "              style=\"display:none;\">\n",
              "        \n",
              "  <svg xmlns=\"http://www.w3.org/2000/svg\" height=\"24px\"viewBox=\"0 0 24 24\"\n",
              "       width=\"24px\">\n",
              "    <path d=\"M0 0h24v24H0V0z\" fill=\"none\"/>\n",
              "    <path d=\"M18.56 5.44l.94 2.06.94-2.06 2.06-.94-2.06-.94-.94-2.06-.94 2.06-2.06.94zm-11 1L8.5 8.5l.94-2.06 2.06-.94-2.06-.94L8.5 2.5l-.94 2.06-2.06.94zm10 10l.94 2.06.94-2.06 2.06-.94-2.06-.94-.94-2.06-.94 2.06-2.06.94z\"/><path d=\"M17.41 7.96l-1.37-1.37c-.4-.4-.92-.59-1.43-.59-.52 0-1.04.2-1.43.59L10.3 9.45l-7.72 7.72c-.78.78-.78 2.05 0 2.83L4 21.41c.39.39.9.59 1.41.59.51 0 1.02-.2 1.41-.59l7.78-7.78 2.81-2.81c.8-.78.8-2.07 0-2.86zM5.41 20L4 18.59l7.72-7.72 1.47 1.35L5.41 20z\"/>\n",
              "  </svg>\n",
              "      </button>\n",
              "      \n",
              "  <style>\n",
              "    .colab-df-container {\n",
              "      display:flex;\n",
              "      flex-wrap:wrap;\n",
              "      gap: 12px;\n",
              "    }\n",
              "\n",
              "    .colab-df-convert {\n",
              "      background-color: #E8F0FE;\n",
              "      border: none;\n",
              "      border-radius: 50%;\n",
              "      cursor: pointer;\n",
              "      display: none;\n",
              "      fill: #1967D2;\n",
              "      height: 32px;\n",
              "      padding: 0 0 0 0;\n",
              "      width: 32px;\n",
              "    }\n",
              "\n",
              "    .colab-df-convert:hover {\n",
              "      background-color: #E2EBFA;\n",
              "      box-shadow: 0px 1px 2px rgba(60, 64, 67, 0.3), 0px 1px 3px 1px rgba(60, 64, 67, 0.15);\n",
              "      fill: #174EA6;\n",
              "    }\n",
              "\n",
              "    [theme=dark] .colab-df-convert {\n",
              "      background-color: #3B4455;\n",
              "      fill: #D2E3FC;\n",
              "    }\n",
              "\n",
              "    [theme=dark] .colab-df-convert:hover {\n",
              "      background-color: #434B5C;\n",
              "      box-shadow: 0px 1px 3px 1px rgba(0, 0, 0, 0.15);\n",
              "      filter: drop-shadow(0px 1px 2px rgba(0, 0, 0, 0.3));\n",
              "      fill: #FFFFFF;\n",
              "    }\n",
              "  </style>\n",
              "\n",
              "      <script>\n",
              "        const buttonEl =\n",
              "          document.querySelector('#df-02f133a5-5f69-4451-b09e-7c21e25f9599 button.colab-df-convert');\n",
              "        buttonEl.style.display =\n",
              "          google.colab.kernel.accessAllowed ? 'block' : 'none';\n",
              "\n",
              "        async function convertToInteractive(key) {\n",
              "          const element = document.querySelector('#df-02f133a5-5f69-4451-b09e-7c21e25f9599');\n",
              "          const dataTable =\n",
              "            await google.colab.kernel.invokeFunction('convertToInteractive',\n",
              "                                                     [key], {});\n",
              "          if (!dataTable) return;\n",
              "\n",
              "          const docLinkHtml = 'Like what you see? Visit the ' +\n",
              "            '<a target=\"_blank\" href=https://colab.research.google.com/notebooks/data_table.ipynb>data table notebook</a>'\n",
              "            + ' to learn more about interactive tables.';\n",
              "          element.innerHTML = '';\n",
              "          dataTable['output_type'] = 'display_data';\n",
              "          await google.colab.output.renderOutput(dataTable, element);\n",
              "          const docLink = document.createElement('div');\n",
              "          docLink.innerHTML = docLinkHtml;\n",
              "          element.appendChild(docLink);\n",
              "        }\n",
              "      </script>\n",
              "    </div>\n",
              "  </div>\n",
              "  "
            ]
          },
          "metadata": {},
          "execution_count": 11
        }
      ],
      "source": [
        "df.head()"
      ]
    },
    {
      "cell_type": "code",
      "execution_count": 12,
      "metadata": {
        "id": "9ytathzsCX0r"
      },
      "outputs": [],
      "source": [
        "# Relabel columns.\n",
        "\n",
        "df.columns=['unit_id','trusted_judgments','audience_feature','bias_feature','message_feature','lable_feature','source_feature','text_feature']\n"
      ]
    },
    {
      "cell_type": "code",
      "source": [
        "df.shape"
      ],
      "metadata": {
        "colab": {
          "base_uri": "https://localhost:8080/"
        },
        "id": "lG_jV6vIDF4K",
        "outputId": "192655e0-ae19-496d-d6a8-880af38ee56c"
      },
      "execution_count": 13,
      "outputs": [
        {
          "output_type": "execute_result",
          "data": {
            "text/plain": [
              "(4888, 8)"
            ]
          },
          "metadata": {},
          "execution_count": 13
        }
      ]
    },
    {
      "cell_type": "code",
      "execution_count": 14,
      "metadata": {
        "id": "oe2Hlr9gCX0r"
      },
      "outputs": [],
      "source": [
        "# Drop NAs.\n",
        "\n",
        "df.dropna(inplace=True)"
      ]
    },
    {
      "cell_type": "code",
      "execution_count": 15,
      "metadata": {
        "id": "9BzaWpZqCX0s"
      },
      "outputs": [],
      "source": [
        "# Reset index.\n",
        "\n",
        "df.reset_index(drop=True,inplace=True)\n"
      ]
    },
    {
      "cell_type": "code",
      "source": [
        "df.shape"
      ],
      "metadata": {
        "colab": {
          "base_uri": "https://localhost:8080/"
        },
        "id": "tFA37XBtDPIZ",
        "outputId": "9ef3d53c-64f0-4984-ab75-a59e070f58ca"
      },
      "execution_count": 16,
      "outputs": [
        {
          "output_type": "execute_result",
          "data": {
            "text/plain": [
              "(4888, 8)"
            ]
          },
          "metadata": {},
          "execution_count": 16
        }
      ]
    },
    {
      "cell_type": "markdown",
      "metadata": {
        "id": "PchX_7pTCX0s"
      },
      "source": [
        "We have social media data! This includes almost 5,000 messages on either Twitter or Facebook from various politicians. We can use the features we generated to predict things like whether the source is Twitter or Facebook, whether the bias is neutral or partisan, and so on."
      ]
    },
    {
      "cell_type": "code",
      "execution_count": 17,
      "metadata": {
        "colab": {
          "base_uri": "https://localhost:8080/"
        },
        "id": "oAj3C0SwCX0t",
        "outputId": "e738c05b-bbd8-4e06-866f-aa531dbb9b28"
      },
      "outputs": [
        {
          "output_type": "execute_result",
          "data": {
            "text/plain": [
              "(4888, 8)"
            ]
          },
          "metadata": {},
          "execution_count": 17
        }
      ],
      "source": [
        "# How many rows and columns do we have?\n",
        "\n",
        "df.shape\n"
      ]
    },
    {
      "cell_type": "code",
      "execution_count": 18,
      "metadata": {
        "colab": {
          "base_uri": "https://localhost:8080/",
          "height": 530
        },
        "id": "h8yZp5FUCX0t",
        "outputId": "d7c9170a-7e35-4009-ad4f-34645e225836"
      },
      "outputs": [
        {
          "output_type": "execute_result",
          "data": {
            "text/plain": [
              "     unit_id  trusted_judgments audience_feature bias_feature message_feature  \\\n",
              "0  766192484                  1         national     partisan          policy   \n",
              "1  766192485                  1         national     partisan          attack   \n",
              "2  766192486                  1         national      neutral         support   \n",
              "3  766192487                  1         national      neutral          policy   \n",
              "4  766192488                  1         national     partisan          policy   \n",
              "\n",
              "                                      lable_feature source_feature  \\\n",
              "0    From: Trey Radel (Representative from Florida)        twitter   \n",
              "1     From: Mitch McConnell (Senator from Kentucky)        twitter   \n",
              "2  From: Kurt Schrader (Representative from Oregon)        twitter   \n",
              "3          From: Michael Crapo (Senator from Idaho)        twitter   \n",
              "4          From: Mark Udall (Senator from Colorado)        twitter   \n",
              "\n",
              "                                        text_feature  \n",
              "0  RT @nowthisnews: Rep. Trey Radel (R- #FL) slam...  \n",
              "1  VIDEO - #Obamacare:  Full of Higher Costs and ...  \n",
              "2  Please join me today in remembering our fallen...  \n",
              "3  RT @SenatorLeahy: 1st step toward Senate debat...  \n",
              "4  .@amazon delivery #drones show need to update ...  "
            ],
            "text/html": [
              "\n",
              "  <div id=\"df-1e943548-a723-4f83-805a-56887fd3dddd\">\n",
              "    <div class=\"colab-df-container\">\n",
              "      <div>\n",
              "<style scoped>\n",
              "    .dataframe tbody tr th:only-of-type {\n",
              "        vertical-align: middle;\n",
              "    }\n",
              "\n",
              "    .dataframe tbody tr th {\n",
              "        vertical-align: top;\n",
              "    }\n",
              "\n",
              "    .dataframe thead th {\n",
              "        text-align: right;\n",
              "    }\n",
              "</style>\n",
              "<table border=\"1\" class=\"dataframe\">\n",
              "  <thead>\n",
              "    <tr style=\"text-align: right;\">\n",
              "      <th></th>\n",
              "      <th>unit_id</th>\n",
              "      <th>trusted_judgments</th>\n",
              "      <th>audience_feature</th>\n",
              "      <th>bias_feature</th>\n",
              "      <th>message_feature</th>\n",
              "      <th>lable_feature</th>\n",
              "      <th>source_feature</th>\n",
              "      <th>text_feature</th>\n",
              "    </tr>\n",
              "  </thead>\n",
              "  <tbody>\n",
              "    <tr>\n",
              "      <th>0</th>\n",
              "      <td>766192484</td>\n",
              "      <td>1</td>\n",
              "      <td>national</td>\n",
              "      <td>partisan</td>\n",
              "      <td>policy</td>\n",
              "      <td>From: Trey Radel (Representative from Florida)</td>\n",
              "      <td>twitter</td>\n",
              "      <td>RT @nowthisnews: Rep. Trey Radel (R- #FL) slam...</td>\n",
              "    </tr>\n",
              "    <tr>\n",
              "      <th>1</th>\n",
              "      <td>766192485</td>\n",
              "      <td>1</td>\n",
              "      <td>national</td>\n",
              "      <td>partisan</td>\n",
              "      <td>attack</td>\n",
              "      <td>From: Mitch McConnell (Senator from Kentucky)</td>\n",
              "      <td>twitter</td>\n",
              "      <td>VIDEO - #Obamacare:  Full of Higher Costs and ...</td>\n",
              "    </tr>\n",
              "    <tr>\n",
              "      <th>2</th>\n",
              "      <td>766192486</td>\n",
              "      <td>1</td>\n",
              "      <td>national</td>\n",
              "      <td>neutral</td>\n",
              "      <td>support</td>\n",
              "      <td>From: Kurt Schrader (Representative from Oregon)</td>\n",
              "      <td>twitter</td>\n",
              "      <td>Please join me today in remembering our fallen...</td>\n",
              "    </tr>\n",
              "    <tr>\n",
              "      <th>3</th>\n",
              "      <td>766192487</td>\n",
              "      <td>1</td>\n",
              "      <td>national</td>\n",
              "      <td>neutral</td>\n",
              "      <td>policy</td>\n",
              "      <td>From: Michael Crapo (Senator from Idaho)</td>\n",
              "      <td>twitter</td>\n",
              "      <td>RT @SenatorLeahy: 1st step toward Senate debat...</td>\n",
              "    </tr>\n",
              "    <tr>\n",
              "      <th>4</th>\n",
              "      <td>766192488</td>\n",
              "      <td>1</td>\n",
              "      <td>national</td>\n",
              "      <td>partisan</td>\n",
              "      <td>policy</td>\n",
              "      <td>From: Mark Udall (Senator from Colorado)</td>\n",
              "      <td>twitter</td>\n",
              "      <td>.@amazon delivery #drones show need to update ...</td>\n",
              "    </tr>\n",
              "  </tbody>\n",
              "</table>\n",
              "</div>\n",
              "      <button class=\"colab-df-convert\" onclick=\"convertToInteractive('df-1e943548-a723-4f83-805a-56887fd3dddd')\"\n",
              "              title=\"Convert this dataframe to an interactive table.\"\n",
              "              style=\"display:none;\">\n",
              "        \n",
              "  <svg xmlns=\"http://www.w3.org/2000/svg\" height=\"24px\"viewBox=\"0 0 24 24\"\n",
              "       width=\"24px\">\n",
              "    <path d=\"M0 0h24v24H0V0z\" fill=\"none\"/>\n",
              "    <path d=\"M18.56 5.44l.94 2.06.94-2.06 2.06-.94-2.06-.94-.94-2.06-.94 2.06-2.06.94zm-11 1L8.5 8.5l.94-2.06 2.06-.94-2.06-.94L8.5 2.5l-.94 2.06-2.06.94zm10 10l.94 2.06.94-2.06 2.06-.94-2.06-.94-.94-2.06-.94 2.06-2.06.94z\"/><path d=\"M17.41 7.96l-1.37-1.37c-.4-.4-.92-.59-1.43-.59-.52 0-1.04.2-1.43.59L10.3 9.45l-7.72 7.72c-.78.78-.78 2.05 0 2.83L4 21.41c.39.39.9.59 1.41.59.51 0 1.02-.2 1.41-.59l7.78-7.78 2.81-2.81c.8-.78.8-2.07 0-2.86zM5.41 20L4 18.59l7.72-7.72 1.47 1.35L5.41 20z\"/>\n",
              "  </svg>\n",
              "      </button>\n",
              "      \n",
              "  <style>\n",
              "    .colab-df-container {\n",
              "      display:flex;\n",
              "      flex-wrap:wrap;\n",
              "      gap: 12px;\n",
              "    }\n",
              "\n",
              "    .colab-df-convert {\n",
              "      background-color: #E8F0FE;\n",
              "      border: none;\n",
              "      border-radius: 50%;\n",
              "      cursor: pointer;\n",
              "      display: none;\n",
              "      fill: #1967D2;\n",
              "      height: 32px;\n",
              "      padding: 0 0 0 0;\n",
              "      width: 32px;\n",
              "    }\n",
              "\n",
              "    .colab-df-convert:hover {\n",
              "      background-color: #E2EBFA;\n",
              "      box-shadow: 0px 1px 2px rgba(60, 64, 67, 0.3), 0px 1px 3px 1px rgba(60, 64, 67, 0.15);\n",
              "      fill: #174EA6;\n",
              "    }\n",
              "\n",
              "    [theme=dark] .colab-df-convert {\n",
              "      background-color: #3B4455;\n",
              "      fill: #D2E3FC;\n",
              "    }\n",
              "\n",
              "    [theme=dark] .colab-df-convert:hover {\n",
              "      background-color: #434B5C;\n",
              "      box-shadow: 0px 1px 3px 1px rgba(0, 0, 0, 0.15);\n",
              "      filter: drop-shadow(0px 1px 2px rgba(0, 0, 0, 0.3));\n",
              "      fill: #FFFFFF;\n",
              "    }\n",
              "  </style>\n",
              "\n",
              "      <script>\n",
              "        const buttonEl =\n",
              "          document.querySelector('#df-1e943548-a723-4f83-805a-56887fd3dddd button.colab-df-convert');\n",
              "        buttonEl.style.display =\n",
              "          google.colab.kernel.accessAllowed ? 'block' : 'none';\n",
              "\n",
              "        async function convertToInteractive(key) {\n",
              "          const element = document.querySelector('#df-1e943548-a723-4f83-805a-56887fd3dddd');\n",
              "          const dataTable =\n",
              "            await google.colab.kernel.invokeFunction('convertToInteractive',\n",
              "                                                     [key], {});\n",
              "          if (!dataTable) return;\n",
              "\n",
              "          const docLinkHtml = 'Like what you see? Visit the ' +\n",
              "            '<a target=\"_blank\" href=https://colab.research.google.com/notebooks/data_table.ipynb>data table notebook</a>'\n",
              "            + ' to learn more about interactive tables.';\n",
              "          element.innerHTML = '';\n",
              "          dataTable['output_type'] = 'display_data';\n",
              "          await google.colab.output.renderOutput(dataTable, element);\n",
              "          const docLink = document.createElement('div');\n",
              "          docLink.innerHTML = docLinkHtml;\n",
              "          element.appendChild(docLink);\n",
              "        }\n",
              "      </script>\n",
              "    </div>\n",
              "  </div>\n",
              "  "
            ]
          },
          "metadata": {},
          "execution_count": 18
        }
      ],
      "source": [
        "# View first five rows.\n",
        "\n",
        "df.head(5)"
      ]
    },
    {
      "cell_type": "markdown",
      "metadata": {
        "id": "w9jJg2VmCX0t"
      },
      "source": [
        "You may note that there are some extra symbols in the data. This is a common problem in natural language processing, especially when dealing with social media (think emoji, hashtags, links, etc.), but we're going to ignore that for now."
      ]
    },
    {
      "cell_type": "markdown",
      "metadata": {
        "id": "PCUMBlGyCX0u"
      },
      "source": [
        "### Let's use Naive Bayes to predict whether a social media post was featured on Facebook or Twitter."
      ]
    },
    {
      "cell_type": "markdown",
      "metadata": {
        "id": "_noKrYqqCX0u"
      },
      "source": [
        "#### 1. Engineer a feature to turn `source_feature` into a 1/0 column, where 1 indicates `Twitter`."
      ]
    },
    {
      "cell_type": "code",
      "execution_count": 19,
      "metadata": {
        "id": "w27W1XDqCX0u"
      },
      "outputs": [],
      "source": [
        "df['twitter'] = [1 if df.loc[i,'source_feature'] == 'twitter' else 0 for i in range(df.shape[0])]"
      ]
    },
    {
      "cell_type": "markdown",
      "metadata": {
        "id": "9hRNhQvLCX0u"
      },
      "source": [
        "#### NOTE: Since we are solving a classification problem, what potential issue should I check for here?"
      ]
    },
    {
      "cell_type": "code",
      "execution_count": 20,
      "metadata": {
        "colab": {
          "base_uri": "https://localhost:8080/"
        },
        "id": "SFRP7xPJCX0v",
        "outputId": "9ada9338-fb6a-4db1-f284-986197ada010"
      },
      "outputs": [
        {
          "output_type": "execute_result",
          "data": {
            "text/plain": [
              "0    2497\n",
              "1    2391\n",
              "Name: twitter, dtype: int64"
            ]
          },
          "metadata": {},
          "execution_count": 20
        }
      ],
      "source": [
        "df['twitter'].value_counts()"
      ]
    },
    {
      "cell_type": "markdown",
      "metadata": {
        "id": "9TZWE75jCX0v"
      },
      "source": [
        "#### 2. Split our data into `X` and `y`."
      ]
    },
    {
      "cell_type": "code",
      "source": [],
      "metadata": {
        "id": "PX4JVxTn0q-A"
      },
      "execution_count": null,
      "outputs": []
    },
    {
      "cell_type": "code",
      "execution_count": 21,
      "metadata": {
        "id": "WRb4W9GUCX0v"
      },
      "outputs": [],
      "source": [
        "X = df[['text_feature']] # Indepentent feature \n",
        "y = df['twitter'] #Dependent feature "
      ]
    },
    {
      "cell_type": "code",
      "source": [
        "y.head(100)"
      ],
      "metadata": {
        "colab": {
          "base_uri": "https://localhost:8080/"
        },
        "id": "uAUZwJ2F0rwN",
        "outputId": "a82d9b86-d8ee-48bd-c59c-70a81e1f081b"
      },
      "execution_count": 30,
      "outputs": [
        {
          "output_type": "execute_result",
          "data": {
            "text/plain": [
              "0     1\n",
              "1     1\n",
              "2     1\n",
              "3     1\n",
              "4     1\n",
              "     ..\n",
              "95    1\n",
              "96    1\n",
              "97    1\n",
              "98    1\n",
              "99    1\n",
              "Name: twitter, Length: 100, dtype: int64"
            ]
          },
          "metadata": {},
          "execution_count": 30
        }
      ]
    },
    {
      "cell_type": "code",
      "execution_count": 27,
      "metadata": {
        "colab": {
          "base_uri": "https://localhost:8080/",
          "height": 379
        },
        "id": "MAzU3BNyCX0v",
        "outputId": "72945e22-1117-4a22-e9ad-c3ab72b1afc9"
      },
      "outputs": [
        {
          "output_type": "execute_result",
          "data": {
            "text/plain": [
              "                                           text_feature\n",
              "4883  I applaud Governor PerryÛªs recent decision t...\n",
              "4884  Today, I voted in favor of H.R. 5016 - Financi...\n",
              "4885  (Taken from posted WOKV interview)   Congressm...\n",
              "4886  Join me next week for a town hall in Ocala! I'...\n",
              "4887  Foreign Affairs Committee Hearing on Syria. I ..."
            ],
            "text/html": [
              "\n",
              "  <div id=\"df-67a943b4-eede-458b-a5c2-1844cc5c97e2\">\n",
              "    <div class=\"colab-df-container\">\n",
              "      <div>\n",
              "<style scoped>\n",
              "    .dataframe tbody tr th:only-of-type {\n",
              "        vertical-align: middle;\n",
              "    }\n",
              "\n",
              "    .dataframe tbody tr th {\n",
              "        vertical-align: top;\n",
              "    }\n",
              "\n",
              "    .dataframe thead th {\n",
              "        text-align: right;\n",
              "    }\n",
              "</style>\n",
              "<table border=\"1\" class=\"dataframe\">\n",
              "  <thead>\n",
              "    <tr style=\"text-align: right;\">\n",
              "      <th></th>\n",
              "      <th>text_feature</th>\n",
              "    </tr>\n",
              "  </thead>\n",
              "  <tbody>\n",
              "    <tr>\n",
              "      <th>4883</th>\n",
              "      <td>I applaud Governor PerryÛªs recent decision t...</td>\n",
              "    </tr>\n",
              "    <tr>\n",
              "      <th>4884</th>\n",
              "      <td>Today, I voted in favor of H.R. 5016 - Financi...</td>\n",
              "    </tr>\n",
              "    <tr>\n",
              "      <th>4885</th>\n",
              "      <td>(Taken from posted WOKV interview)   Congressm...</td>\n",
              "    </tr>\n",
              "    <tr>\n",
              "      <th>4886</th>\n",
              "      <td>Join me next week for a town hall in Ocala! I'...</td>\n",
              "    </tr>\n",
              "    <tr>\n",
              "      <th>4887</th>\n",
              "      <td>Foreign Affairs Committee Hearing on Syria. I ...</td>\n",
              "    </tr>\n",
              "  </tbody>\n",
              "</table>\n",
              "</div>\n",
              "      <button class=\"colab-df-convert\" onclick=\"convertToInteractive('df-67a943b4-eede-458b-a5c2-1844cc5c97e2')\"\n",
              "              title=\"Convert this dataframe to an interactive table.\"\n",
              "              style=\"display:none;\">\n",
              "        \n",
              "  <svg xmlns=\"http://www.w3.org/2000/svg\" height=\"24px\"viewBox=\"0 0 24 24\"\n",
              "       width=\"24px\">\n",
              "    <path d=\"M0 0h24v24H0V0z\" fill=\"none\"/>\n",
              "    <path d=\"M18.56 5.44l.94 2.06.94-2.06 2.06-.94-2.06-.94-.94-2.06-.94 2.06-2.06.94zm-11 1L8.5 8.5l.94-2.06 2.06-.94-2.06-.94L8.5 2.5l-.94 2.06-2.06.94zm10 10l.94 2.06.94-2.06 2.06-.94-2.06-.94-.94-2.06-.94 2.06-2.06.94z\"/><path d=\"M17.41 7.96l-1.37-1.37c-.4-.4-.92-.59-1.43-.59-.52 0-1.04.2-1.43.59L10.3 9.45l-7.72 7.72c-.78.78-.78 2.05 0 2.83L4 21.41c.39.39.9.59 1.41.59.51 0 1.02-.2 1.41-.59l7.78-7.78 2.81-2.81c.8-.78.8-2.07 0-2.86zM5.41 20L4 18.59l7.72-7.72 1.47 1.35L5.41 20z\"/>\n",
              "  </svg>\n",
              "      </button>\n",
              "      \n",
              "  <style>\n",
              "    .colab-df-container {\n",
              "      display:flex;\n",
              "      flex-wrap:wrap;\n",
              "      gap: 12px;\n",
              "    }\n",
              "\n",
              "    .colab-df-convert {\n",
              "      background-color: #E8F0FE;\n",
              "      border: none;\n",
              "      border-radius: 50%;\n",
              "      cursor: pointer;\n",
              "      display: none;\n",
              "      fill: #1967D2;\n",
              "      height: 32px;\n",
              "      padding: 0 0 0 0;\n",
              "      width: 32px;\n",
              "    }\n",
              "\n",
              "    .colab-df-convert:hover {\n",
              "      background-color: #E2EBFA;\n",
              "      box-shadow: 0px 1px 2px rgba(60, 64, 67, 0.3), 0px 1px 3px 1px rgba(60, 64, 67, 0.15);\n",
              "      fill: #174EA6;\n",
              "    }\n",
              "\n",
              "    [theme=dark] .colab-df-convert {\n",
              "      background-color: #3B4455;\n",
              "      fill: #D2E3FC;\n",
              "    }\n",
              "\n",
              "    [theme=dark] .colab-df-convert:hover {\n",
              "      background-color: #434B5C;\n",
              "      box-shadow: 0px 1px 3px 1px rgba(0, 0, 0, 0.15);\n",
              "      filter: drop-shadow(0px 1px 2px rgba(0, 0, 0, 0.3));\n",
              "      fill: #FFFFFF;\n",
              "    }\n",
              "  </style>\n",
              "\n",
              "      <script>\n",
              "        const buttonEl =\n",
              "          document.querySelector('#df-67a943b4-eede-458b-a5c2-1844cc5c97e2 button.colab-df-convert');\n",
              "        buttonEl.style.display =\n",
              "          google.colab.kernel.accessAllowed ? 'block' : 'none';\n",
              "\n",
              "        async function convertToInteractive(key) {\n",
              "          const element = document.querySelector('#df-67a943b4-eede-458b-a5c2-1844cc5c97e2');\n",
              "          const dataTable =\n",
              "            await google.colab.kernel.invokeFunction('convertToInteractive',\n",
              "                                                     [key], {});\n",
              "          if (!dataTable) return;\n",
              "\n",
              "          const docLinkHtml = 'Like what you see? Visit the ' +\n",
              "            '<a target=\"_blank\" href=https://colab.research.google.com/notebooks/data_table.ipynb>data table notebook</a>'\n",
              "            + ' to learn more about interactive tables.';\n",
              "          element.innerHTML = '';\n",
              "          dataTable['output_type'] = 'display_data';\n",
              "          await google.colab.output.renderOutput(dataTable, element);\n",
              "          const docLink = document.createElement('div');\n",
              "          docLink.innerHTML = docLinkHtml;\n",
              "          element.appendChild(docLink);\n",
              "        }\n",
              "      </script>\n",
              "    </div>\n",
              "  </div>\n",
              "  "
            ]
          },
          "metadata": {},
          "execution_count": 27
        }
      ],
      "source": [
        "X.tail()"
      ]
    },
    {
      "cell_type": "markdown",
      "metadata": {
        "id": "hdgPeaHrCX0w"
      },
      "source": [
        "#### 3. Split our data into training and testing sets."
      ]
    },
    {
      "cell_type": "code",
      "execution_count": 28,
      "metadata": {
        "id": "eITc0_qCCX0w"
      },
      "outputs": [],
      "source": [
        "from sklearn.model_selection import train_test_split\n",
        "\n",
        "X_train, X_test, y_train, y_test = train_test_split(X,\n",
        "                                                    y,\n",
        "                                                    test_size=0.25,\n",
        "                                                    random_state=42,\n",
        "                                                    stratify=y)"
      ]
    },
    {
      "cell_type": "markdown",
      "metadata": {
        "id": "vTlFdjzYCX0w"
      },
      "source": [
        "#### 4. Turn our text into features. [Documentation here](https://scikit-learn.org/stable/modules/generated/sklearn.feature_extraction.text.CountVectorizer.html)."
      ]
    },
    {
      "cell_type": "markdown",
      "metadata": {
        "id": "4DZoS3FWCX0x"
      },
      "source": [
        "#### CountVectorizer"
      ]
    },
    {
      "cell_type": "code",
      "execution_count": 29,
      "metadata": {
        "id": "tGv23xHDCX0x"
      },
      "outputs": [],
      "source": [
        "# Import CountVectorizer.\n",
        "from sklearn.feature_extraction.text import CountVectorizer\n",
        "\n",
        "# Instantiate our CountVectorizer.\n",
        "cvec = CountVectorizer(max_features=500 , stop_words= 'english')"
      ]
    },
    {
      "cell_type": "code",
      "execution_count": 31,
      "metadata": {
        "id": "5N53tVVdCX0x",
        "colab": {
          "base_uri": "https://localhost:8080/"
        },
        "outputId": "8cc5e3d6-f990-4360-ee57-52050e79092b"
      },
      "outputs": [
        {
          "output_type": "stream",
          "name": "stderr",
          "text": [
            "/usr/local/lib/python3.8/dist-packages/sklearn/utils/deprecation.py:87: FutureWarning: Function get_feature_names is deprecated; get_feature_names is deprecated in 1.0 and will be removed in 1.2. Please use get_feature_names_out instead.\n",
            "  warnings.warn(msg, category=FutureWarning)\n"
          ]
        }
      ],
      "source": [
        "# Fit our CountVectorizer on the training data and transform training data.\n",
        "X_train_cvec = pd.DataFrame(cvec.fit_transform(X_train['text_feature']).todense(),\n",
        "                            columns=cvec.get_feature_names())"
      ]
    },
    {
      "cell_type": "code",
      "execution_count": 32,
      "metadata": {
        "id": "vLBxKb0uCX0x"
      },
      "outputs": [],
      "source": [
        "# Transform our testing data with the already-fit CountVectorizer.\n",
        "X_test_cvec = pd.DataFrame(cvec.transform(X_test['text_feature']).todense(),\n",
        "                            columns=cvec.get_feature_names())"
      ]
    },
    {
      "cell_type": "code",
      "execution_count": 33,
      "metadata": {
        "colab": {
          "base_uri": "https://localhost:8080/"
        },
        "id": "s3Z2BfijCX0x",
        "outputId": "e213bcfc-1734-4747-ce1f-86d47ba37964"
      },
      "outputs": [
        {
          "output_type": "execute_result",
          "data": {
            "text/plain": [
              "(3666, 500)"
            ]
          },
          "metadata": {},
          "execution_count": 33
        }
      ],
      "source": [
        "X_train_cvec.shape"
      ]
    },
    {
      "cell_type": "code",
      "source": [
        "X_train_cvec.head()"
      ],
      "metadata": {
        "colab": {
          "base_uri": "https://localhost:8080/",
          "height": 235
        },
        "id": "ORi7HJ6b3hCW",
        "outputId": "63f8fa9b-6c4e-4557-e0fa-9a73627c1f33"
      },
      "execution_count": 34,
      "outputs": [
        {
          "output_type": "execute_result",
          "data": {
            "text/plain": [
              "   00  000  10  11  12  17  1st  20  2013  2014  ...  yesterday  york  young  \\\n",
              "0   0    0   0   0   0   0    0   0     0     0  ...          1     0      0   \n",
              "1   0    0   0   0   0   0    0   0     0     0  ...          0     0      0   \n",
              "2   0    0   0   0   0   0    0   0     0     0  ...          0     0      0   \n",
              "3   0    0   0   0   0   0    0   0     0     1  ...          0     0      0   \n",
              "4   0    0   0   0   0   0    0   0     0     0  ...          0     0      0   \n",
              "\n",
              "   youtube  û_  ûª  ûªm  ûªs  ûªt  ûò  \n",
              "0        0   0   0    1    0    0   0  \n",
              "1        0   0   0    0    0    0   0  \n",
              "2        0   0   0    0    0    0   0  \n",
              "3        0   0   0    0    0    0   0  \n",
              "4        0   0   0    0    0    0   0  \n",
              "\n",
              "[5 rows x 500 columns]"
            ],
            "text/html": [
              "\n",
              "  <div id=\"df-238cc932-7388-45f7-bcd6-a9d557c22076\">\n",
              "    <div class=\"colab-df-container\">\n",
              "      <div>\n",
              "<style scoped>\n",
              "    .dataframe tbody tr th:only-of-type {\n",
              "        vertical-align: middle;\n",
              "    }\n",
              "\n",
              "    .dataframe tbody tr th {\n",
              "        vertical-align: top;\n",
              "    }\n",
              "\n",
              "    .dataframe thead th {\n",
              "        text-align: right;\n",
              "    }\n",
              "</style>\n",
              "<table border=\"1\" class=\"dataframe\">\n",
              "  <thead>\n",
              "    <tr style=\"text-align: right;\">\n",
              "      <th></th>\n",
              "      <th>00</th>\n",
              "      <th>000</th>\n",
              "      <th>10</th>\n",
              "      <th>11</th>\n",
              "      <th>12</th>\n",
              "      <th>17</th>\n",
              "      <th>1st</th>\n",
              "      <th>20</th>\n",
              "      <th>2013</th>\n",
              "      <th>2014</th>\n",
              "      <th>...</th>\n",
              "      <th>yesterday</th>\n",
              "      <th>york</th>\n",
              "      <th>young</th>\n",
              "      <th>youtube</th>\n",
              "      <th>û_</th>\n",
              "      <th>ûª</th>\n",
              "      <th>ûªm</th>\n",
              "      <th>ûªs</th>\n",
              "      <th>ûªt</th>\n",
              "      <th>ûò</th>\n",
              "    </tr>\n",
              "  </thead>\n",
              "  <tbody>\n",
              "    <tr>\n",
              "      <th>0</th>\n",
              "      <td>0</td>\n",
              "      <td>0</td>\n",
              "      <td>0</td>\n",
              "      <td>0</td>\n",
              "      <td>0</td>\n",
              "      <td>0</td>\n",
              "      <td>0</td>\n",
              "      <td>0</td>\n",
              "      <td>0</td>\n",
              "      <td>0</td>\n",
              "      <td>...</td>\n",
              "      <td>1</td>\n",
              "      <td>0</td>\n",
              "      <td>0</td>\n",
              "      <td>0</td>\n",
              "      <td>0</td>\n",
              "      <td>0</td>\n",
              "      <td>1</td>\n",
              "      <td>0</td>\n",
              "      <td>0</td>\n",
              "      <td>0</td>\n",
              "    </tr>\n",
              "    <tr>\n",
              "      <th>1</th>\n",
              "      <td>0</td>\n",
              "      <td>0</td>\n",
              "      <td>0</td>\n",
              "      <td>0</td>\n",
              "      <td>0</td>\n",
              "      <td>0</td>\n",
              "      <td>0</td>\n",
              "      <td>0</td>\n",
              "      <td>0</td>\n",
              "      <td>0</td>\n",
              "      <td>...</td>\n",
              "      <td>0</td>\n",
              "      <td>0</td>\n",
              "      <td>0</td>\n",
              "      <td>0</td>\n",
              "      <td>0</td>\n",
              "      <td>0</td>\n",
              "      <td>0</td>\n",
              "      <td>0</td>\n",
              "      <td>0</td>\n",
              "      <td>0</td>\n",
              "    </tr>\n",
              "    <tr>\n",
              "      <th>2</th>\n",
              "      <td>0</td>\n",
              "      <td>0</td>\n",
              "      <td>0</td>\n",
              "      <td>0</td>\n",
              "      <td>0</td>\n",
              "      <td>0</td>\n",
              "      <td>0</td>\n",
              "      <td>0</td>\n",
              "      <td>0</td>\n",
              "      <td>0</td>\n",
              "      <td>...</td>\n",
              "      <td>0</td>\n",
              "      <td>0</td>\n",
              "      <td>0</td>\n",
              "      <td>0</td>\n",
              "      <td>0</td>\n",
              "      <td>0</td>\n",
              "      <td>0</td>\n",
              "      <td>0</td>\n",
              "      <td>0</td>\n",
              "      <td>0</td>\n",
              "    </tr>\n",
              "    <tr>\n",
              "      <th>3</th>\n",
              "      <td>0</td>\n",
              "      <td>0</td>\n",
              "      <td>0</td>\n",
              "      <td>0</td>\n",
              "      <td>0</td>\n",
              "      <td>0</td>\n",
              "      <td>0</td>\n",
              "      <td>0</td>\n",
              "      <td>0</td>\n",
              "      <td>1</td>\n",
              "      <td>...</td>\n",
              "      <td>0</td>\n",
              "      <td>0</td>\n",
              "      <td>0</td>\n",
              "      <td>0</td>\n",
              "      <td>0</td>\n",
              "      <td>0</td>\n",
              "      <td>0</td>\n",
              "      <td>0</td>\n",
              "      <td>0</td>\n",
              "      <td>0</td>\n",
              "    </tr>\n",
              "    <tr>\n",
              "      <th>4</th>\n",
              "      <td>0</td>\n",
              "      <td>0</td>\n",
              "      <td>0</td>\n",
              "      <td>0</td>\n",
              "      <td>0</td>\n",
              "      <td>0</td>\n",
              "      <td>0</td>\n",
              "      <td>0</td>\n",
              "      <td>0</td>\n",
              "      <td>0</td>\n",
              "      <td>...</td>\n",
              "      <td>0</td>\n",
              "      <td>0</td>\n",
              "      <td>0</td>\n",
              "      <td>0</td>\n",
              "      <td>0</td>\n",
              "      <td>0</td>\n",
              "      <td>0</td>\n",
              "      <td>0</td>\n",
              "      <td>0</td>\n",
              "      <td>0</td>\n",
              "    </tr>\n",
              "  </tbody>\n",
              "</table>\n",
              "<p>5 rows × 500 columns</p>\n",
              "</div>\n",
              "      <button class=\"colab-df-convert\" onclick=\"convertToInteractive('df-238cc932-7388-45f7-bcd6-a9d557c22076')\"\n",
              "              title=\"Convert this dataframe to an interactive table.\"\n",
              "              style=\"display:none;\">\n",
              "        \n",
              "  <svg xmlns=\"http://www.w3.org/2000/svg\" height=\"24px\"viewBox=\"0 0 24 24\"\n",
              "       width=\"24px\">\n",
              "    <path d=\"M0 0h24v24H0V0z\" fill=\"none\"/>\n",
              "    <path d=\"M18.56 5.44l.94 2.06.94-2.06 2.06-.94-2.06-.94-.94-2.06-.94 2.06-2.06.94zm-11 1L8.5 8.5l.94-2.06 2.06-.94-2.06-.94L8.5 2.5l-.94 2.06-2.06.94zm10 10l.94 2.06.94-2.06 2.06-.94-2.06-.94-.94-2.06-.94 2.06-2.06.94z\"/><path d=\"M17.41 7.96l-1.37-1.37c-.4-.4-.92-.59-1.43-.59-.52 0-1.04.2-1.43.59L10.3 9.45l-7.72 7.72c-.78.78-.78 2.05 0 2.83L4 21.41c.39.39.9.59 1.41.59.51 0 1.02-.2 1.41-.59l7.78-7.78 2.81-2.81c.8-.78.8-2.07 0-2.86zM5.41 20L4 18.59l7.72-7.72 1.47 1.35L5.41 20z\"/>\n",
              "  </svg>\n",
              "      </button>\n",
              "      \n",
              "  <style>\n",
              "    .colab-df-container {\n",
              "      display:flex;\n",
              "      flex-wrap:wrap;\n",
              "      gap: 12px;\n",
              "    }\n",
              "\n",
              "    .colab-df-convert {\n",
              "      background-color: #E8F0FE;\n",
              "      border: none;\n",
              "      border-radius: 50%;\n",
              "      cursor: pointer;\n",
              "      display: none;\n",
              "      fill: #1967D2;\n",
              "      height: 32px;\n",
              "      padding: 0 0 0 0;\n",
              "      width: 32px;\n",
              "    }\n",
              "\n",
              "    .colab-df-convert:hover {\n",
              "      background-color: #E2EBFA;\n",
              "      box-shadow: 0px 1px 2px rgba(60, 64, 67, 0.3), 0px 1px 3px 1px rgba(60, 64, 67, 0.15);\n",
              "      fill: #174EA6;\n",
              "    }\n",
              "\n",
              "    [theme=dark] .colab-df-convert {\n",
              "      background-color: #3B4455;\n",
              "      fill: #D2E3FC;\n",
              "    }\n",
              "\n",
              "    [theme=dark] .colab-df-convert:hover {\n",
              "      background-color: #434B5C;\n",
              "      box-shadow: 0px 1px 3px 1px rgba(0, 0, 0, 0.15);\n",
              "      filter: drop-shadow(0px 1px 2px rgba(0, 0, 0, 0.3));\n",
              "      fill: #FFFFFF;\n",
              "    }\n",
              "  </style>\n",
              "\n",
              "      <script>\n",
              "        const buttonEl =\n",
              "          document.querySelector('#df-238cc932-7388-45f7-bcd6-a9d557c22076 button.colab-df-convert');\n",
              "        buttonEl.style.display =\n",
              "          google.colab.kernel.accessAllowed ? 'block' : 'none';\n",
              "\n",
              "        async function convertToInteractive(key) {\n",
              "          const element = document.querySelector('#df-238cc932-7388-45f7-bcd6-a9d557c22076');\n",
              "          const dataTable =\n",
              "            await google.colab.kernel.invokeFunction('convertToInteractive',\n",
              "                                                     [key], {});\n",
              "          if (!dataTable) return;\n",
              "\n",
              "          const docLinkHtml = 'Like what you see? Visit the ' +\n",
              "            '<a target=\"_blank\" href=https://colab.research.google.com/notebooks/data_table.ipynb>data table notebook</a>'\n",
              "            + ' to learn more about interactive tables.';\n",
              "          element.innerHTML = '';\n",
              "          dataTable['output_type'] = 'display_data';\n",
              "          await google.colab.output.renderOutput(dataTable, element);\n",
              "          const docLink = document.createElement('div');\n",
              "          docLink.innerHTML = docLinkHtml;\n",
              "          element.appendChild(docLink);\n",
              "        }\n",
              "      </script>\n",
              "    </div>\n",
              "  </div>\n",
              "  "
            ]
          },
          "metadata": {},
          "execution_count": 34
        }
      ]
    },
    {
      "cell_type": "markdown",
      "metadata": {
        "id": "KcEmMlcuCX0y"
      },
      "source": [
        "#### 4. Fit a Naive Bayes model!\n",
        "\n",
        "<details><summary> Which Naive Bayes model should we pick, and why? </summary>\n",
        "    \n",
        "- The columns of X are all integer counts, so MultinomialNB is the best choice here.\n",
        "- BernoulliNB is best when we have 0/1 counts in all columns of X. (a.k.a. dummy variables)\n",
        "- GaussianNB is best when the columns of X are Normally distributed. (Practically, though, it gets used whenever BernoulliNB and MultinomialNB are inappropriate.)\n",
        "</details>"
      ]
    },
    {
      "cell_type": "code",
      "execution_count": 35,
      "metadata": {
        "id": "y_FDSZACCX0y"
      },
      "outputs": [],
      "source": [
        "# Import our model!\n",
        "\n",
        "from sklearn.naive_bayes import MultinomialNB\n"
      ]
    },
    {
      "cell_type": "code",
      "execution_count": 36,
      "metadata": {
        "id": "gZ_DzJW4CX0y"
      },
      "outputs": [],
      "source": [
        "# Instantiate our model!\n",
        "\n",
        "nb = MultinomialNB()"
      ]
    },
    {
      "cell_type": "markdown",
      "metadata": {
        "id": "8N_Bm-5xCX0z"
      },
      "source": [
        "Remember earlier that I said we had the opportunity to set priors. We could do so here if we wanted, but we'll stick with the default and allow `sklearn` to estimate priors from the training data directly."
      ]
    },
    {
      "cell_type": "code",
      "execution_count": 37,
      "metadata": {
        "id": "m9of0MClCX0z"
      },
      "outputs": [],
      "source": [
        "# Fit our model!\n",
        "\n",
        "model = nb.fit(X_train_cvec,y_train)"
      ]
    },
    {
      "cell_type": "code",
      "execution_count": 38,
      "metadata": {
        "id": "PvGYKMGUCX0z"
      },
      "outputs": [],
      "source": [
        "# Generate our predictions!\n",
        "\n",
        "predictions = model.predict(X_test_cvec)"
      ]
    },
    {
      "cell_type": "markdown",
      "metadata": {
        "id": "66wln80CCX0z"
      },
      "source": [
        "<details><summary> How might we evaluate our model's performance? </summary>\n",
        "\n",
        "- Accuracy = (TP + TN) / (TP + TN + FP + FN)\n",
        "- Sensitivity = TP / (TP + FN)\n",
        "- Specificity = TN / (TN + FP)\n",
        "- Precision = TP / (TP + FP)\n",
        "- AUC ROC\n",
        "</details>"
      ]
    },
    {
      "cell_type": "markdown",
      "metadata": {
        "id": "9MdfBSQVCX0z"
      },
      "source": [
        "<details><summary> If we have to select only one, which one should we choose? </summary>\n",
        "\n",
        "- It depends on how exactly you define \"positive\" and \"negative.\" In this case, it probably doesn't really matter - incorrectly mistaking a tweet for a Facebook post doesn't seem much better or worse than incorrectly mistaking a Facebook post for a tweet. \n",
        "- Because I believe false positives and false negatives are equally as bad, I'd probably use accuracy.\n",
        "</details>"
      ]
    },
    {
      "cell_type": "code",
      "execution_count": 39,
      "metadata": {
        "colab": {
          "base_uri": "https://localhost:8080/"
        },
        "id": "7Vvp0RGgCX00",
        "outputId": "b0b5e338-5ee8-405f-ac72-fad2ba6fbded"
      },
      "outputs": [
        {
          "output_type": "execute_result",
          "data": {
            "text/plain": [
              "0.8385160938352427"
            ]
          },
          "metadata": {},
          "execution_count": 39
        }
      ],
      "source": [
        "# Score our model on the training set.\n",
        "\n",
        "model.score(X_train_cvec,y_train)"
      ]
    },
    {
      "cell_type": "code",
      "execution_count": null,
      "metadata": {
        "id": "n6KftPuPCX00"
      },
      "outputs": [],
      "source": []
    },
    {
      "cell_type": "code",
      "execution_count": 40,
      "metadata": {
        "colab": {
          "base_uri": "https://localhost:8080/"
        },
        "id": "1zmuc0n7CX00",
        "outputId": "12779c9a-4ee1-4156-84b3-d1540a4c400b"
      },
      "outputs": [
        {
          "output_type": "execute_result",
          "data": {
            "text/plain": [
              "0.8150572831423896"
            ]
          },
          "metadata": {},
          "execution_count": 40
        }
      ],
      "source": [
        "# Score our model on the testing set.\n",
        "\n",
        "model.score(X_test_cvec,y_test)"
      ]
    },
    {
      "cell_type": "code",
      "execution_count": 41,
      "metadata": {
        "id": "AyXgY6v9CX00"
      },
      "outputs": [],
      "source": [
        "from sklearn.metrics import confusion_matrix"
      ]
    },
    {
      "cell_type": "code",
      "execution_count": 47,
      "metadata": {
        "colab": {
          "base_uri": "https://localhost:8080/"
        },
        "id": "1wrxfKELCX01",
        "outputId": "0306136c-85c5-4d05-d239-b4e7e14816cc"
      },
      "outputs": [
        {
          "output_type": "execute_result",
          "data": {
            "text/plain": [
              "array([[523, 101],\n",
              "       [125, 473]])"
            ]
          },
          "metadata": {},
          "execution_count": 47
        }
      ],
      "source": [
        "confusion_matrix(y_test,predictions)"
      ]
    },
    {
      "cell_type": "code",
      "execution_count": 48,
      "metadata": {
        "id": "xvV40nrWCX01"
      },
      "outputs": [],
      "source": [
        "tn, fp, fn, tp = confusion_matrix(y_test,predictions).ravel()"
      ]
    },
    {
      "cell_type": "code",
      "execution_count": 49,
      "metadata": {
        "colab": {
          "base_uri": "https://localhost:8080/"
        },
        "id": "wC6lXg1lCX01",
        "outputId": "d65617bc-5263-448d-ee89-1e616d81c0e0"
      },
      "outputs": [
        {
          "output_type": "stream",
          "name": "stdout",
          "text": [
            "True Negative : 523 \n",
            "False Positive : 101 \n",
            "False Negative : 125 \n",
            "True Positive : 473 \n"
          ]
        }
      ],
      "source": [
        "print(\"True Negative : %s \"%tn)\n",
        "print(\"False Positive : %s \"%fp)\n",
        "print(\"False Negative : %s \"%fn)\n",
        "print(\"True Positive : %s \"%tp)"
      ]
    },
    {
      "cell_type": "code",
      "execution_count": null,
      "metadata": {
        "id": "daRmLPBoCX01"
      },
      "outputs": [],
      "source": []
    }
  ],
  "metadata": {
    "kernelspec": {
      "display_name": "Python 3",
      "language": "python",
      "name": "python3"
    },
    "language_info": {
      "codemirror_mode": {
        "name": "ipython",
        "version": 3
      },
      "file_extension": ".py",
      "mimetype": "text/x-python",
      "name": "python",
      "nbconvert_exporter": "python",
      "pygments_lexer": "ipython3",
      "version": "3.8.5"
    },
    "colab": {
      "provenance": []
    }
  },
  "nbformat": 4,
  "nbformat_minor": 0
}